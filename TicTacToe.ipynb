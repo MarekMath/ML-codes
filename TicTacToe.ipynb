{
 "cells": [
  {
   "cell_type": "code",
   "execution_count": 16,
   "metadata": {},
   "outputs": [],
   "source": [
    "def print_board():\n",
    "    print(' --- --- ---')\n",
    "    print('|' ,board[7], ' |' ,board[8],  ' |' ,board[9],  ' |')\n",
    "    print(' --- --- ---') \n",
    "    print('|' ,board[4], ' |' ,board[5],  ' |' ,board[6],  ' |')\n",
    "    print(' --- --- ---')\n",
    "    print('|' ,board[1], ' |' ,board[2],  ' |' ,board[3],  ' |')\n",
    "    print(' --- --- ---')"
   ]
  },
  {
   "cell_type": "code",
   "execution_count": 17,
   "metadata": {},
   "outputs": [],
   "source": [
    "def player_input():\n",
    "    global mark\n",
    "    mark = ''\n",
    "    while not (mark == 'X' or mark == 'O'):\n",
    "        mark = input('Choose your marker')\n",
    "    if mark == 'X':\n",
    "        mark = ('X','O')\n",
    "    else:\n",
    "        mark = ('O','X')"
   ]
  },
  {
   "cell_type": "code",
   "execution_count": 18,
   "metadata": {},
   "outputs": [],
   "source": [
    "def place_marker(board, mark , position):\n",
    "    board[position] = mark\n"
   ]
  },
  {
   "cell_type": "code",
   "execution_count": 19,
   "metadata": {},
   "outputs": [],
   "source": [
    "def win_check(board,mark):\n",
    "    return (board[1]==board[2]==board[3]==mark or\n",
    "    board[4]==board[5]==board[6]==mark or\n",
    "    board[7]==board[8]==board[9]==mark or\n",
    "    board[7]==board[4]==board[1]==mark or\n",
    "    board[8]==board[5]==board[2]==mark or\n",
    "    board[9]==board[6]==board[3]==mark or\n",
    "    board[7]==board[5]==board[3]==mark or\n",
    "    board[9]==board[5]==board[1]==mark)"
   ]
  },
  {
   "cell_type": "code",
   "execution_count": 20,
   "metadata": {},
   "outputs": [],
   "source": [
    "import random\n",
    "def choose_first():\n",
    "    if random.randint(1,2) == 1:\n",
    "        return 'X'\n",
    "    else:\n",
    "        return 'O'"
   ]
  },
  {
   "cell_type": "code",
   "execution_count": null,
   "metadata": {},
   "outputs": [],
   "source": [
    "def full_board_check(board):\n",
    "    x = 0\n",
    "    for num in board:\n",
    "        if not num == '':\n",
    "            x = x+1\n",
    "    return x == 9"
   ]
  },
  {
   "cell_type": "code",
   "execution_count": 22,
   "metadata": {},
   "outputs": [],
   "source": [
    "def player_choice(board):\n",
    "    global position\n",
    "    position = ''\n",
    "    while position not in [1,2,3,4,5,6,7,8,9] or not space_check(board,position) :\n",
    "        position = int(input('Please choose your next position'))\n",
    "        \n",
    "    return position"
   ]
  },
  {
   "cell_type": "code",
   "execution_count": 23,
   "metadata": {
    "scrolled": true
   },
   "outputs": [],
   "source": [
    "def space_check(board, position):\n",
    "    return board[position] == ''"
   ]
  },
  {
   "cell_type": "code",
   "execution_count": 24,
   "metadata": {},
   "outputs": [],
   "source": [
    "def replay():\n",
    "    replay = ''\n",
    "    while replay.upper() not in ['YES','NO']:\n",
    "        replay = input('Do you want to play again? Yes or No')\n",
    "    if replay.upper() == 'YES':\n",
    "        return True\n",
    "    else:\n",
    "        return False"
   ]
  },
  {
   "cell_type": "code",
   "execution_count": null,
   "metadata": {},
   "outputs": [
    {
     "name": "stdout",
     "output_type": "stream",
     "text": [
      "Welcome to Tic Tac Toe!\n",
      " --- --- ---\n",
      "|   |   |   |\n",
      " --- --- ---\n",
      "|   |   |   |\n",
      " --- --- ---\n",
      "|   |   |   |\n",
      " --- --- ---\n",
      "Choose your markerX\n",
      "Please choose your next position5\n",
      " --- --- ---\n",
      "|   |   |   |\n",
      " --- --- ---\n",
      "|   | X  |   |\n",
      " --- --- ---\n",
      "|   |   |   |\n",
      " --- --- ---\n",
      "Please choose your next position1\n",
      " --- --- ---\n",
      "|   |   |   |\n",
      " --- --- ---\n",
      "|   | X  |   |\n",
      " --- --- ---\n",
      "| O  |   |   |\n",
      " --- --- ---\n",
      "Please choose your next position2\n",
      " --- --- ---\n",
      "|   |   |   |\n",
      " --- --- ---\n",
      "|   | X  |   |\n",
      " --- --- ---\n",
      "| O  | X  |   |\n",
      " --- --- ---\n",
      "Please choose your next position8\n",
      " --- --- ---\n",
      "|   | O  |   |\n",
      " --- --- ---\n",
      "|   | X  |   |\n",
      " --- --- ---\n",
      "| O  | X  |   |\n",
      " --- --- ---\n",
      "Please choose your next position7\n",
      " --- --- ---\n",
      "| X  | O  |   |\n",
      " --- --- ---\n",
      "|   | X  |   |\n",
      " --- --- ---\n",
      "| O  | X  |   |\n",
      " --- --- ---\n",
      "Please choose your next position4\n",
      " --- --- ---\n",
      "| X  | O  |   |\n",
      " --- --- ---\n",
      "| O  | X  |   |\n",
      " --- --- ---\n",
      "| O  | X  |   |\n",
      " --- --- ---\n",
      "Please choose your next position3\n",
      " --- --- ---\n",
      "| X  | O  |   |\n",
      " --- --- ---\n",
      "| O  | X  |   |\n",
      " --- --- ---\n",
      "| O  | X  | X  |\n",
      " --- --- ---\n",
      "Win of player\n"
     ]
    }
   ],
   "source": [
    "print('Welcome to Tic Tac Toe!')\n",
    "\n",
    "global position\n",
    "\n",
    "game_on1 = True\n",
    "\n",
    "while game_on1:\n",
    "    board = ['','','','','','','','','','']\n",
    "    print_board()\n",
    "    player_input()\n",
    "    turn = mark[0]\n",
    "    game_on2 = True\n",
    "\n",
    "    while game_on2:\n",
    "    \n",
    "        while turn == mark[0] and game_on2:\n",
    "            player_choice(board)\n",
    "            place_marker(board, mark[0] , position)\n",
    "            print_board()\n",
    "            turn = mark[1]\n",
    "        \n",
    "            if win_check(board,mark[0]):\n",
    "                print ('Win of player'), mark[0]\n",
    "                game_on2 = False\n",
    "\n",
    "            \n",
    "            elif full_board_check(board):\n",
    "                print ('Tie')\n",
    "                game_on2 = False\n",
    "\n",
    "                            \n",
    "        while turn == mark[1] and game_on2:\n",
    "            player_choice(board)\n",
    "            place_marker(board, mark[1] , position)\n",
    "            print_board()\n",
    "            turn = mark[0]\n",
    "        \n",
    "            if win_check(board,mark[1]):\n",
    "                print ('Win of player'), mark[1]\n",
    "                game_on2 = False\n",
    "                \n",
    "            \n",
    "            elif full_board_check(board):\n",
    "                print ('Tie')\n",
    "                game_on2 = False\n",
    "                \n",
    "                \n",
    "    if not replay():\n",
    "        print ('Thank you for playing')\n",
    "        game_on1 = False\n",
    "    else:\n",
    "        pass\n",
    "    \n"
   ]
  },
  {
   "cell_type": "code",
   "execution_count": null,
   "metadata": {
    "collapsed": true
   },
   "outputs": [],
   "source": []
  },
  {
   "cell_type": "code",
   "execution_count": null,
   "metadata": {
    "collapsed": true
   },
   "outputs": [],
   "source": []
  },
  {
   "cell_type": "code",
   "execution_count": null,
   "metadata": {
    "collapsed": true
   },
   "outputs": [],
   "source": []
  },
  {
   "cell_type": "code",
   "execution_count": null,
   "metadata": {
    "collapsed": true
   },
   "outputs": [],
   "source": []
  },
  {
   "cell_type": "code",
   "execution_count": null,
   "metadata": {
    "collapsed": true
   },
   "outputs": [],
   "source": []
  },
  {
   "cell_type": "code",
   "execution_count": null,
   "metadata": {
    "collapsed": true
   },
   "outputs": [],
   "source": []
  },
  {
   "cell_type": "code",
   "execution_count": null,
   "metadata": {
    "collapsed": true
   },
   "outputs": [],
   "source": []
  },
  {
   "cell_type": "code",
   "execution_count": null,
   "metadata": {
    "collapsed": true
   },
   "outputs": [],
   "source": []
  },
  {
   "cell_type": "code",
   "execution_count": null,
   "metadata": {
    "collapsed": true
   },
   "outputs": [],
   "source": [
    "\n"
   ]
  },
  {
   "cell_type": "code",
   "execution_count": null,
   "metadata": {
    "collapsed": true
   },
   "outputs": [],
   "source": []
  },
  {
   "cell_type": "code",
   "execution_count": null,
   "metadata": {
    "collapsed": true
   },
   "outputs": [],
   "source": [
    "\n",
    "        "
   ]
  },
  {
   "cell_type": "code",
   "execution_count": null,
   "metadata": {
    "collapsed": true
   },
   "outputs": [],
   "source": []
  },
  {
   "cell_type": "code",
   "execution_count": null,
   "metadata": {
    "collapsed": true
   },
   "outputs": [],
   "source": []
  },
  {
   "cell_type": "code",
   "execution_count": null,
   "metadata": {
    "collapsed": true
   },
   "outputs": [],
   "source": [
    "\n",
    "        "
   ]
  },
  {
   "cell_type": "code",
   "execution_count": null,
   "metadata": {
    "collapsed": true
   },
   "outputs": [],
   "source": []
  },
  {
   "cell_type": "code",
   "execution_count": null,
   "metadata": {
    "collapsed": true
   },
   "outputs": [],
   "source": []
  },
  {
   "cell_type": "code",
   "execution_count": null,
   "metadata": {
    "collapsed": true
   },
   "outputs": [],
   "source": []
  },
  {
   "cell_type": "code",
   "execution_count": null,
   "metadata": {
    "collapsed": true
   },
   "outputs": [],
   "source": []
  },
  {
   "cell_type": "code",
   "execution_count": null,
   "metadata": {
    "collapsed": true
   },
   "outputs": [],
   "source": []
  },
  {
   "cell_type": "code",
   "execution_count": null,
   "metadata": {
    "collapsed": true
   },
   "outputs": [],
   "source": []
  },
  {
   "cell_type": "code",
   "execution_count": null,
   "metadata": {
    "collapsed": true
   },
   "outputs": [],
   "source": []
  },
  {
   "cell_type": "code",
   "execution_count": null,
   "metadata": {
    "collapsed": true
   },
   "outputs": [],
   "source": []
  },
  {
   "cell_type": "code",
   "execution_count": null,
   "metadata": {
    "collapsed": true
   },
   "outputs": [],
   "source": []
  },
  {
   "cell_type": "code",
   "execution_count": null,
   "metadata": {
    "collapsed": true
   },
   "outputs": [],
   "source": []
  },
  {
   "cell_type": "code",
   "execution_count": null,
   "metadata": {
    "collapsed": true
   },
   "outputs": [],
   "source": [
    "player_choice(board)"
   ]
  },
  {
   "cell_type": "code",
   "execution_count": null,
   "metadata": {
    "collapsed": true
   },
   "outputs": [],
   "source": [
    "position"
   ]
  },
  {
   "cell_type": "code",
   "execution_count": null,
   "metadata": {
    "collapsed": true
   },
   "outputs": [],
   "source": []
  },
  {
   "cell_type": "code",
   "execution_count": null,
   "metadata": {
    "collapsed": true
   },
   "outputs": [],
   "source": []
  },
  {
   "cell_type": "code",
   "execution_count": null,
   "metadata": {
    "collapsed": true
   },
   "outputs": [],
   "source": []
  },
  {
   "cell_type": "code",
   "execution_count": null,
   "metadata": {
    "collapsed": true
   },
   "outputs": [],
   "source": []
  },
  {
   "cell_type": "code",
   "execution_count": null,
   "metadata": {
    "collapsed": true
   },
   "outputs": [],
   "source": []
  },
  {
   "cell_type": "code",
   "execution_count": null,
   "metadata": {
    "collapsed": true
   },
   "outputs": [],
   "source": []
  },
  {
   "cell_type": "code",
   "execution_count": null,
   "metadata": {
    "collapsed": true
   },
   "outputs": [],
   "source": []
  },
  {
   "cell_type": "code",
   "execution_count": null,
   "metadata": {
    "collapsed": true
   },
   "outputs": [],
   "source": []
  },
  {
   "cell_type": "code",
   "execution_count": null,
   "metadata": {
    "collapsed": true
   },
   "outputs": [],
   "source": []
  },
  {
   "cell_type": "code",
   "execution_count": null,
   "metadata": {
    "collapsed": true
   },
   "outputs": [],
   "source": []
  },
  {
   "cell_type": "code",
   "execution_count": null,
   "metadata": {
    "collapsed": true
   },
   "outputs": [],
   "source": []
  }
 ],
 "metadata": {
  "kernelspec": {
   "display_name": "Python 3",
   "language": "python",
   "name": "python3"
  },
  "language_info": {
   "codemirror_mode": {
    "name": "ipython",
    "version": 3
   },
   "file_extension": ".py",
   "mimetype": "text/x-python",
   "name": "python",
   "nbconvert_exporter": "python",
   "pygments_lexer": "ipython3",
   "version": "3.8.5"
  },
  "varInspector": {
   "cols": {
    "lenName": 16,
    "lenType": 16,
    "lenVar": 40
   },
   "kernels_config": {
    "python": {
     "delete_cmd_postfix": "",
     "delete_cmd_prefix": "del ",
     "library": "var_list.py",
     "varRefreshCmd": "print(var_dic_list())"
    },
    "r": {
     "delete_cmd_postfix": ") ",
     "delete_cmd_prefix": "rm(",
     "library": "var_list.r",
     "varRefreshCmd": "cat(var_dic_list()) "
    }
   },
   "types_to_exclude": [
    "module",
    "function",
    "builtin_function_or_method",
    "instance",
    "_Feature"
   ],
   "window_display": false
  }
 },
 "nbformat": 4,
 "nbformat_minor": 2
}
