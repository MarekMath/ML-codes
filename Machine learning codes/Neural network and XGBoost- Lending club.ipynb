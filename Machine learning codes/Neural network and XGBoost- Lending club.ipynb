{
 "cells": [
  {
   "cell_type": "code",
   "execution_count": 1,
   "metadata": {},
   "outputs": [],
   "source": [
    "import pandas as pd\n",
    "import numpy as np\n",
    "import matplotlib.pyplot as plt\n",
    "import seaborn as sns"
   ]
  },
  {
   "cell_type": "code",
   "execution_count": 72,
   "metadata": {},
   "outputs": [],
   "source": [
    "pd.set_option('display.max_columns', None)\n",
    "data = pd.read_csv('../DATA/lending_club_loan_two.csv')"
   ]
  },
  {
   "cell_type": "code",
   "execution_count": 3,
   "metadata": {},
   "outputs": [],
   "source": [
    "raw_data = pd.read_csv('../DATA/lending_club_loan_two.csv')"
   ]
  },
  {
   "cell_type": "code",
   "execution_count": 4,
   "metadata": {},
   "outputs": [],
   "source": [
    "raw_data['loan_status'] = raw_data['loan_status'].replace('Fully Paid',0).replace('Charged Off',1)"
   ]
  },
  {
   "cell_type": "code",
   "execution_count": 226,
   "metadata": {},
   "outputs": [
    {
     "data": {
      "text/html": [
       "<div>\n",
       "<style scoped>\n",
       "    .dataframe tbody tr th:only-of-type {\n",
       "        vertical-align: middle;\n",
       "    }\n",
       "\n",
       "    .dataframe tbody tr th {\n",
       "        vertical-align: top;\n",
       "    }\n",
       "\n",
       "    .dataframe thead th {\n",
       "        text-align: right;\n",
       "    }\n",
       "</style>\n",
       "<table border=\"1\" class=\"dataframe\">\n",
       "  <thead>\n",
       "    <tr style=\"text-align: right;\">\n",
       "      <th></th>\n",
       "      <th>loan_amnt</th>\n",
       "      <th>term</th>\n",
       "      <th>int_rate</th>\n",
       "      <th>installment</th>\n",
       "      <th>grade</th>\n",
       "      <th>sub_grade</th>\n",
       "      <th>emp_title</th>\n",
       "      <th>emp_length</th>\n",
       "      <th>home_ownership</th>\n",
       "      <th>annual_inc</th>\n",
       "      <th>verification_status</th>\n",
       "      <th>issue_d</th>\n",
       "      <th>loan_status</th>\n",
       "      <th>purpose</th>\n",
       "      <th>title</th>\n",
       "      <th>dti</th>\n",
       "      <th>earliest_cr_line</th>\n",
       "      <th>open_acc</th>\n",
       "      <th>pub_rec</th>\n",
       "      <th>revol_bal</th>\n",
       "      <th>revol_util</th>\n",
       "      <th>total_acc</th>\n",
       "      <th>initial_list_status</th>\n",
       "      <th>application_type</th>\n",
       "      <th>mort_acc</th>\n",
       "      <th>pub_rec_bankruptcies</th>\n",
       "      <th>address</th>\n",
       "    </tr>\n",
       "  </thead>\n",
       "  <tbody>\n",
       "    <tr>\n",
       "      <th>0</th>\n",
       "      <td>10000.0</td>\n",
       "      <td>36 months</td>\n",
       "      <td>11.44</td>\n",
       "      <td>329.48</td>\n",
       "      <td>B</td>\n",
       "      <td>B4</td>\n",
       "      <td>Marketing</td>\n",
       "      <td>10+ years</td>\n",
       "      <td>RENT</td>\n",
       "      <td>117000.0</td>\n",
       "      <td>Not Verified</td>\n",
       "      <td>Jan-2015</td>\n",
       "      <td>0</td>\n",
       "      <td>vacation</td>\n",
       "      <td>Vacation</td>\n",
       "      <td>26.24</td>\n",
       "      <td>Jun-1990</td>\n",
       "      <td>16.0</td>\n",
       "      <td>0.0</td>\n",
       "      <td>36369.0</td>\n",
       "      <td>41.8</td>\n",
       "      <td>25.0</td>\n",
       "      <td>w</td>\n",
       "      <td>INDIVIDUAL</td>\n",
       "      <td>0.0</td>\n",
       "      <td>0.0</td>\n",
       "      <td>0174 Michelle Gateway\\nMendozaberg, OK 22690</td>\n",
       "    </tr>\n",
       "    <tr>\n",
       "      <th>1</th>\n",
       "      <td>8000.0</td>\n",
       "      <td>36 months</td>\n",
       "      <td>11.99</td>\n",
       "      <td>265.68</td>\n",
       "      <td>B</td>\n",
       "      <td>B5</td>\n",
       "      <td>Credit analyst</td>\n",
       "      <td>4 years</td>\n",
       "      <td>MORTGAGE</td>\n",
       "      <td>65000.0</td>\n",
       "      <td>Not Verified</td>\n",
       "      <td>Jan-2015</td>\n",
       "      <td>0</td>\n",
       "      <td>debt_consolidation</td>\n",
       "      <td>Debt consolidation</td>\n",
       "      <td>22.05</td>\n",
       "      <td>Jul-2004</td>\n",
       "      <td>17.0</td>\n",
       "      <td>0.0</td>\n",
       "      <td>20131.0</td>\n",
       "      <td>53.3</td>\n",
       "      <td>27.0</td>\n",
       "      <td>f</td>\n",
       "      <td>INDIVIDUAL</td>\n",
       "      <td>3.0</td>\n",
       "      <td>0.0</td>\n",
       "      <td>1076 Carney Fort Apt. 347\\nLoganmouth, SD 05113</td>\n",
       "    </tr>\n",
       "    <tr>\n",
       "      <th>2</th>\n",
       "      <td>15600.0</td>\n",
       "      <td>36 months</td>\n",
       "      <td>10.49</td>\n",
       "      <td>506.97</td>\n",
       "      <td>B</td>\n",
       "      <td>B3</td>\n",
       "      <td>Statistician</td>\n",
       "      <td>&lt; 1 year</td>\n",
       "      <td>RENT</td>\n",
       "      <td>43057.0</td>\n",
       "      <td>Source Verified</td>\n",
       "      <td>Jan-2015</td>\n",
       "      <td>0</td>\n",
       "      <td>credit_card</td>\n",
       "      <td>Credit card refinancing</td>\n",
       "      <td>12.79</td>\n",
       "      <td>Aug-2007</td>\n",
       "      <td>13.0</td>\n",
       "      <td>0.0</td>\n",
       "      <td>11987.0</td>\n",
       "      <td>92.2</td>\n",
       "      <td>26.0</td>\n",
       "      <td>f</td>\n",
       "      <td>INDIVIDUAL</td>\n",
       "      <td>0.0</td>\n",
       "      <td>0.0</td>\n",
       "      <td>87025 Mark Dale Apt. 269\\nNew Sabrina, WV 05113</td>\n",
       "    </tr>\n",
       "    <tr>\n",
       "      <th>3</th>\n",
       "      <td>7200.0</td>\n",
       "      <td>36 months</td>\n",
       "      <td>6.49</td>\n",
       "      <td>220.65</td>\n",
       "      <td>A</td>\n",
       "      <td>A2</td>\n",
       "      <td>Client Advocate</td>\n",
       "      <td>6 years</td>\n",
       "      <td>RENT</td>\n",
       "      <td>54000.0</td>\n",
       "      <td>Not Verified</td>\n",
       "      <td>Nov-2014</td>\n",
       "      <td>0</td>\n",
       "      <td>credit_card</td>\n",
       "      <td>Credit card refinancing</td>\n",
       "      <td>2.60</td>\n",
       "      <td>Sep-2006</td>\n",
       "      <td>6.0</td>\n",
       "      <td>0.0</td>\n",
       "      <td>5472.0</td>\n",
       "      <td>21.5</td>\n",
       "      <td>13.0</td>\n",
       "      <td>f</td>\n",
       "      <td>INDIVIDUAL</td>\n",
       "      <td>0.0</td>\n",
       "      <td>0.0</td>\n",
       "      <td>823 Reid Ford\\nDelacruzside, MA 00813</td>\n",
       "    </tr>\n",
       "    <tr>\n",
       "      <th>4</th>\n",
       "      <td>24375.0</td>\n",
       "      <td>60 months</td>\n",
       "      <td>17.27</td>\n",
       "      <td>609.33</td>\n",
       "      <td>C</td>\n",
       "      <td>C5</td>\n",
       "      <td>Destiny Management Inc.</td>\n",
       "      <td>9 years</td>\n",
       "      <td>MORTGAGE</td>\n",
       "      <td>55000.0</td>\n",
       "      <td>Verified</td>\n",
       "      <td>Apr-2013</td>\n",
       "      <td>1</td>\n",
       "      <td>credit_card</td>\n",
       "      <td>Credit Card Refinance</td>\n",
       "      <td>33.95</td>\n",
       "      <td>Mar-1999</td>\n",
       "      <td>13.0</td>\n",
       "      <td>0.0</td>\n",
       "      <td>24584.0</td>\n",
       "      <td>69.8</td>\n",
       "      <td>43.0</td>\n",
       "      <td>f</td>\n",
       "      <td>INDIVIDUAL</td>\n",
       "      <td>1.0</td>\n",
       "      <td>0.0</td>\n",
       "      <td>679 Luna Roads\\nGreggshire, VA 11650</td>\n",
       "    </tr>\n",
       "    <tr>\n",
       "      <th>...</th>\n",
       "      <td>...</td>\n",
       "      <td>...</td>\n",
       "      <td>...</td>\n",
       "      <td>...</td>\n",
       "      <td>...</td>\n",
       "      <td>...</td>\n",
       "      <td>...</td>\n",
       "      <td>...</td>\n",
       "      <td>...</td>\n",
       "      <td>...</td>\n",
       "      <td>...</td>\n",
       "      <td>...</td>\n",
       "      <td>...</td>\n",
       "      <td>...</td>\n",
       "      <td>...</td>\n",
       "      <td>...</td>\n",
       "      <td>...</td>\n",
       "      <td>...</td>\n",
       "      <td>...</td>\n",
       "      <td>...</td>\n",
       "      <td>...</td>\n",
       "      <td>...</td>\n",
       "      <td>...</td>\n",
       "      <td>...</td>\n",
       "      <td>...</td>\n",
       "      <td>...</td>\n",
       "      <td>...</td>\n",
       "    </tr>\n",
       "    <tr>\n",
       "      <th>396025</th>\n",
       "      <td>10000.0</td>\n",
       "      <td>60 months</td>\n",
       "      <td>10.99</td>\n",
       "      <td>217.38</td>\n",
       "      <td>B</td>\n",
       "      <td>B4</td>\n",
       "      <td>licensed bankere</td>\n",
       "      <td>2 years</td>\n",
       "      <td>RENT</td>\n",
       "      <td>40000.0</td>\n",
       "      <td>Source Verified</td>\n",
       "      <td>Oct-2015</td>\n",
       "      <td>0</td>\n",
       "      <td>debt_consolidation</td>\n",
       "      <td>Debt consolidation</td>\n",
       "      <td>15.63</td>\n",
       "      <td>Nov-2004</td>\n",
       "      <td>6.0</td>\n",
       "      <td>0.0</td>\n",
       "      <td>1990.0</td>\n",
       "      <td>34.3</td>\n",
       "      <td>23.0</td>\n",
       "      <td>w</td>\n",
       "      <td>INDIVIDUAL</td>\n",
       "      <td>0.0</td>\n",
       "      <td>0.0</td>\n",
       "      <td>12951 Williams Crossing\\nJohnnyville, DC 30723</td>\n",
       "    </tr>\n",
       "    <tr>\n",
       "      <th>396026</th>\n",
       "      <td>21000.0</td>\n",
       "      <td>36 months</td>\n",
       "      <td>12.29</td>\n",
       "      <td>700.42</td>\n",
       "      <td>C</td>\n",
       "      <td>C1</td>\n",
       "      <td>Agent</td>\n",
       "      <td>5 years</td>\n",
       "      <td>MORTGAGE</td>\n",
       "      <td>110000.0</td>\n",
       "      <td>Source Verified</td>\n",
       "      <td>Feb-2015</td>\n",
       "      <td>0</td>\n",
       "      <td>debt_consolidation</td>\n",
       "      <td>Debt consolidation</td>\n",
       "      <td>21.45</td>\n",
       "      <td>Feb-2006</td>\n",
       "      <td>6.0</td>\n",
       "      <td>0.0</td>\n",
       "      <td>43263.0</td>\n",
       "      <td>95.7</td>\n",
       "      <td>8.0</td>\n",
       "      <td>f</td>\n",
       "      <td>INDIVIDUAL</td>\n",
       "      <td>1.0</td>\n",
       "      <td>0.0</td>\n",
       "      <td>0114 Fowler Field Suite 028\\nRachelborough, LA...</td>\n",
       "    </tr>\n",
       "    <tr>\n",
       "      <th>396027</th>\n",
       "      <td>5000.0</td>\n",
       "      <td>36 months</td>\n",
       "      <td>9.99</td>\n",
       "      <td>161.32</td>\n",
       "      <td>B</td>\n",
       "      <td>B1</td>\n",
       "      <td>City Carrier</td>\n",
       "      <td>10+ years</td>\n",
       "      <td>RENT</td>\n",
       "      <td>56500.0</td>\n",
       "      <td>Verified</td>\n",
       "      <td>Oct-2013</td>\n",
       "      <td>0</td>\n",
       "      <td>debt_consolidation</td>\n",
       "      <td>pay off credit cards</td>\n",
       "      <td>17.56</td>\n",
       "      <td>Mar-1997</td>\n",
       "      <td>15.0</td>\n",
       "      <td>0.0</td>\n",
       "      <td>32704.0</td>\n",
       "      <td>66.9</td>\n",
       "      <td>23.0</td>\n",
       "      <td>f</td>\n",
       "      <td>INDIVIDUAL</td>\n",
       "      <td>0.0</td>\n",
       "      <td>0.0</td>\n",
       "      <td>953 Matthew Points Suite 414\\nReedfort, NY 70466</td>\n",
       "    </tr>\n",
       "    <tr>\n",
       "      <th>396028</th>\n",
       "      <td>21000.0</td>\n",
       "      <td>60 months</td>\n",
       "      <td>15.31</td>\n",
       "      <td>503.02</td>\n",
       "      <td>C</td>\n",
       "      <td>C2</td>\n",
       "      <td>Gracon Services, Inc</td>\n",
       "      <td>10+ years</td>\n",
       "      <td>MORTGAGE</td>\n",
       "      <td>64000.0</td>\n",
       "      <td>Verified</td>\n",
       "      <td>Aug-2012</td>\n",
       "      <td>0</td>\n",
       "      <td>debt_consolidation</td>\n",
       "      <td>Loanforpayoff</td>\n",
       "      <td>15.88</td>\n",
       "      <td>Nov-1990</td>\n",
       "      <td>9.0</td>\n",
       "      <td>0.0</td>\n",
       "      <td>15704.0</td>\n",
       "      <td>53.8</td>\n",
       "      <td>20.0</td>\n",
       "      <td>f</td>\n",
       "      <td>INDIVIDUAL</td>\n",
       "      <td>5.0</td>\n",
       "      <td>0.0</td>\n",
       "      <td>7843 Blake Freeway Apt. 229\\nNew Michael, FL 2...</td>\n",
       "    </tr>\n",
       "    <tr>\n",
       "      <th>396029</th>\n",
       "      <td>2000.0</td>\n",
       "      <td>36 months</td>\n",
       "      <td>13.61</td>\n",
       "      <td>67.98</td>\n",
       "      <td>C</td>\n",
       "      <td>C2</td>\n",
       "      <td>Internal Revenue Service</td>\n",
       "      <td>10+ years</td>\n",
       "      <td>RENT</td>\n",
       "      <td>42996.0</td>\n",
       "      <td>Verified</td>\n",
       "      <td>Jun-2010</td>\n",
       "      <td>0</td>\n",
       "      <td>debt_consolidation</td>\n",
       "      <td>Toxic Debt Payoff</td>\n",
       "      <td>8.32</td>\n",
       "      <td>Sep-1998</td>\n",
       "      <td>3.0</td>\n",
       "      <td>0.0</td>\n",
       "      <td>4292.0</td>\n",
       "      <td>91.3</td>\n",
       "      <td>19.0</td>\n",
       "      <td>f</td>\n",
       "      <td>INDIVIDUAL</td>\n",
       "      <td>NaN</td>\n",
       "      <td>0.0</td>\n",
       "      <td>787 Michelle Causeway\\nBriannaton, AR 48052</td>\n",
       "    </tr>\n",
       "  </tbody>\n",
       "</table>\n",
       "<p>396030 rows × 27 columns</p>\n",
       "</div>"
      ],
      "text/plain": [
       "        loan_amnt        term  int_rate  installment grade sub_grade  \\\n",
       "0         10000.0   36 months     11.44       329.48     B        B4   \n",
       "1          8000.0   36 months     11.99       265.68     B        B5   \n",
       "2         15600.0   36 months     10.49       506.97     B        B3   \n",
       "3          7200.0   36 months      6.49       220.65     A        A2   \n",
       "4         24375.0   60 months     17.27       609.33     C        C5   \n",
       "...           ...         ...       ...          ...   ...       ...   \n",
       "396025    10000.0   60 months     10.99       217.38     B        B4   \n",
       "396026    21000.0   36 months     12.29       700.42     C        C1   \n",
       "396027     5000.0   36 months      9.99       161.32     B        B1   \n",
       "396028    21000.0   60 months     15.31       503.02     C        C2   \n",
       "396029     2000.0   36 months     13.61        67.98     C        C2   \n",
       "\n",
       "                       emp_title emp_length home_ownership  annual_inc  \\\n",
       "0                      Marketing  10+ years           RENT    117000.0   \n",
       "1                Credit analyst     4 years       MORTGAGE     65000.0   \n",
       "2                   Statistician   < 1 year           RENT     43057.0   \n",
       "3                Client Advocate    6 years           RENT     54000.0   \n",
       "4        Destiny Management Inc.    9 years       MORTGAGE     55000.0   \n",
       "...                          ...        ...            ...         ...   \n",
       "396025          licensed bankere    2 years           RENT     40000.0   \n",
       "396026                     Agent    5 years       MORTGAGE    110000.0   \n",
       "396027              City Carrier  10+ years           RENT     56500.0   \n",
       "396028      Gracon Services, Inc  10+ years       MORTGAGE     64000.0   \n",
       "396029  Internal Revenue Service  10+ years           RENT     42996.0   \n",
       "\n",
       "       verification_status   issue_d  loan_status             purpose  \\\n",
       "0             Not Verified  Jan-2015            0            vacation   \n",
       "1             Not Verified  Jan-2015            0  debt_consolidation   \n",
       "2          Source Verified  Jan-2015            0         credit_card   \n",
       "3             Not Verified  Nov-2014            0         credit_card   \n",
       "4                 Verified  Apr-2013            1         credit_card   \n",
       "...                    ...       ...          ...                 ...   \n",
       "396025     Source Verified  Oct-2015            0  debt_consolidation   \n",
       "396026     Source Verified  Feb-2015            0  debt_consolidation   \n",
       "396027            Verified  Oct-2013            0  debt_consolidation   \n",
       "396028            Verified  Aug-2012            0  debt_consolidation   \n",
       "396029            Verified  Jun-2010            0  debt_consolidation   \n",
       "\n",
       "                          title    dti earliest_cr_line  open_acc  pub_rec  \\\n",
       "0                      Vacation  26.24         Jun-1990      16.0      0.0   \n",
       "1            Debt consolidation  22.05         Jul-2004      17.0      0.0   \n",
       "2       Credit card refinancing  12.79         Aug-2007      13.0      0.0   \n",
       "3       Credit card refinancing   2.60         Sep-2006       6.0      0.0   \n",
       "4         Credit Card Refinance  33.95         Mar-1999      13.0      0.0   \n",
       "...                         ...    ...              ...       ...      ...   \n",
       "396025       Debt consolidation  15.63         Nov-2004       6.0      0.0   \n",
       "396026       Debt consolidation  21.45         Feb-2006       6.0      0.0   \n",
       "396027     pay off credit cards  17.56         Mar-1997      15.0      0.0   \n",
       "396028            Loanforpayoff  15.88         Nov-1990       9.0      0.0   \n",
       "396029        Toxic Debt Payoff   8.32         Sep-1998       3.0      0.0   \n",
       "\n",
       "        revol_bal  revol_util  total_acc initial_list_status application_type  \\\n",
       "0         36369.0        41.8       25.0                   w       INDIVIDUAL   \n",
       "1         20131.0        53.3       27.0                   f       INDIVIDUAL   \n",
       "2         11987.0        92.2       26.0                   f       INDIVIDUAL   \n",
       "3          5472.0        21.5       13.0                   f       INDIVIDUAL   \n",
       "4         24584.0        69.8       43.0                   f       INDIVIDUAL   \n",
       "...           ...         ...        ...                 ...              ...   \n",
       "396025     1990.0        34.3       23.0                   w       INDIVIDUAL   \n",
       "396026    43263.0        95.7        8.0                   f       INDIVIDUAL   \n",
       "396027    32704.0        66.9       23.0                   f       INDIVIDUAL   \n",
       "396028    15704.0        53.8       20.0                   f       INDIVIDUAL   \n",
       "396029     4292.0        91.3       19.0                   f       INDIVIDUAL   \n",
       "\n",
       "        mort_acc  pub_rec_bankruptcies  \\\n",
       "0            0.0                   0.0   \n",
       "1            3.0                   0.0   \n",
       "2            0.0                   0.0   \n",
       "3            0.0                   0.0   \n",
       "4            1.0                   0.0   \n",
       "...          ...                   ...   \n",
       "396025       0.0                   0.0   \n",
       "396026       1.0                   0.0   \n",
       "396027       0.0                   0.0   \n",
       "396028       5.0                   0.0   \n",
       "396029       NaN                   0.0   \n",
       "\n",
       "                                                  address  \n",
       "0            0174 Michelle Gateway\\nMendozaberg, OK 22690  \n",
       "1         1076 Carney Fort Apt. 347\\nLoganmouth, SD 05113  \n",
       "2         87025 Mark Dale Apt. 269\\nNew Sabrina, WV 05113  \n",
       "3                   823 Reid Ford\\nDelacruzside, MA 00813  \n",
       "4                    679 Luna Roads\\nGreggshire, VA 11650  \n",
       "...                                                   ...  \n",
       "396025     12951 Williams Crossing\\nJohnnyville, DC 30723  \n",
       "396026  0114 Fowler Field Suite 028\\nRachelborough, LA...  \n",
       "396027   953 Matthew Points Suite 414\\nReedfort, NY 70466  \n",
       "396028  7843 Blake Freeway Apt. 229\\nNew Michael, FL 2...  \n",
       "396029        787 Michelle Causeway\\nBriannaton, AR 48052  \n",
       "\n",
       "[396030 rows x 27 columns]"
      ]
     },
     "execution_count": 226,
     "metadata": {},
     "output_type": "execute_result"
    }
   ],
   "source": [
    "raw_data"
   ]
  },
  {
   "cell_type": "code",
   "execution_count": 5,
   "metadata": {},
   "outputs": [
    {
     "data": {
      "text/plain": [
       "mort_acc               -0.073111\n",
       "annual_inc             -0.053432\n",
       "total_acc              -0.017893\n",
       "revol_bal              -0.010892\n",
       "pub_rec_bankruptcies    0.009383\n",
       "pub_rec                 0.019933\n",
       "open_acc                0.028012\n",
       "installment             0.041082\n",
       "loan_amnt               0.059836\n",
       "dti                     0.062413\n",
       "revol_util              0.082373\n",
       "int_rate                0.247758\n",
       "loan_status             1.000000\n",
       "Name: loan_status, dtype: float64"
      ]
     },
     "execution_count": 5,
     "metadata": {},
     "output_type": "execute_result"
    }
   ],
   "source": [
    "raw_data.corr()['loan_status'].sort_values()"
   ]
  },
  {
   "cell_type": "markdown",
   "metadata": {},
   "source": [
    "# Data exploration"
   ]
  },
  {
   "cell_type": "code",
   "execution_count": 62,
   "metadata": {},
   "outputs": [
    {
     "data": {
      "text/plain": [
       "<AxesSubplot:>"
      ]
     },
     "execution_count": 62,
     "metadata": {},
     "output_type": "execute_result"
    },
    {
     "data": {
      "image/png": "[encoded data removed]",
      "text/plain": [
       "<Figure size 720x720 with 2 Axes>"
      ]
     },
     "metadata": {
      "needs_background": "light"
     },
     "output_type": "display_data"
    }
   ],
   "source": [
    "plt.figure(figsize=(10,10))\n",
    "sns.heatmap(data.corr())"
   ]
  },
  {
   "cell_type": "code",
   "execution_count": 63,
   "metadata": {},
   "outputs": [
    {
     "data": {
      "text/plain": [
       "<AxesSubplot:xlabel='loan_status', ylabel='count'>"
      ]
     },
     "execution_count": 63,
     "metadata": {},
     "output_type": "execute_result"
    },
    {
     "data": {
      "image/png": "[encoded data removed]",
      "text/plain": [
       "<Figure size 432x288 with 1 Axes>"
      ]
     },
     "metadata": {
      "needs_background": "light"
     },
     "output_type": "display_data"
    }
   ],
   "source": [
    "sns.countplot(data=data,x='loan_status')"
   ]
  },
  {
   "cell_type": "code",
   "execution_count": 64,
   "metadata": {},
   "outputs": [
    {
     "data": {
      "text/plain": [
       "array([ True])"
      ]
     },
     "execution_count": 64,
     "metadata": {},
     "output_type": "execute_result"
    }
   ],
   "source": [
    "np.unique(data['grade']==data['sub_grade'].str[0])"
   ]
  },
  {
   "cell_type": "code",
   "execution_count": 65,
   "metadata": {},
   "outputs": [],
   "source": [
    "# len(np.unique(data['emp_title']))"
   ]
  },
  {
   "cell_type": "code",
   "execution_count": 66,
   "metadata": {},
   "outputs": [],
   "source": [
    "# len(np.unique(data['title']))"
   ]
  },
  {
   "cell_type": "markdown",
   "metadata": {},
   "source": [
    "# Data preprocessing"
   ]
  },
  {
   "cell_type": "code",
   "execution_count": 73,
   "metadata": {},
   "outputs": [],
   "source": [
    "# date variables \n",
    "data['earliest_cr_line_M'] = pd.DatetimeIndex(data['earliest_cr_line']).month\n",
    "data['earliest_cr_line_Y'] = pd.DatetimeIndex(data['earliest_cr_line']).year"
   ]
  },
  {
   "cell_type": "code",
   "execution_count": 74,
   "metadata": {},
   "outputs": [],
   "source": [
    "data = data.drop(['earliest_cr_line'],axis=1)"
   ]
  },
  {
   "cell_type": "code",
   "execution_count": 75,
   "metadata": {},
   "outputs": [
    {
     "data": {
      "text/plain": [
       "10"
      ]
     },
     "execution_count": 75,
     "metadata": {},
     "output_type": "execute_result"
    }
   ],
   "source": [
    "# ZIP extraction\n",
    "data['zip'] = data['address'].apply(lambda x : x[-5:])\n",
    "len(np.unique(data['zip']))"
   ]
  },
  {
   "cell_type": "code",
   "execution_count": 76,
   "metadata": {},
   "outputs": [],
   "source": [
    "data = data.drop(['address'],axis=1)"
   ]
  },
  {
   "cell_type": "code",
   "execution_count": 77,
   "metadata": {},
   "outputs": [],
   "source": [
    "# replace missing of cat variables with 'missing'\n",
    "data[['emp_length']] = data[['emp_length']].fillna('missing')"
   ]
  },
  {
   "cell_type": "code",
   "execution_count": 78,
   "metadata": {},
   "outputs": [],
   "source": [
    "# replace missing of continous variable\n",
    "data[['revol_util','mort_acc','pub_rec_bankruptcies']] = data[['revol_util','mort_acc','pub_rec_bankruptcies']].fillna(0)"
   ]
  },
  {
   "cell_type": "code",
   "execution_count": 80,
   "metadata": {},
   "outputs": [],
   "source": [
    "# integer encoding ordinal categories\n",
    "from sklearn.preprocessing import OrdinalEncoder\n",
    "\n",
    "oenc = OrdinalEncoder()\n",
    "data[['term_enc','sub_grade_enc','emp_length_enc']] = oenc.fit_transform(X=data[['term','sub_grade','emp_length']])\n",
    "data = data.drop(['term','sub_grade','emp_length'],axis=1)\n",
    "\n",
    "Fixing wrong encoding\n",
    "data['emp_length_enc'] = data['emp_length_enc'].replace(0,'1').replace(1,'10').replace(10,'0')\n",
    "data['emp_length_enc'] = data['emp_length_enc'].replace('1',1).replace('10',10).replace('0',0)"
   ]
  },
  {
   "cell_type": "code",
   "execution_count": 82,
   "metadata": {},
   "outputs": [],
   "source": [
    "# Dropping cat variables with too many categories or redundant columns\n",
    "data = data.drop(['grade','emp_title','title','issue_d'],axis=1)"
   ]
  },
  {
   "cell_type": "code",
   "execution_count": 83,
   "metadata": {},
   "outputs": [],
   "source": [
    "# one hot encoding nominal categories\n",
    "data = pd.get_dummies(data)"
   ]
  },
  {
   "cell_type": "code",
   "execution_count": null,
   "metadata": {},
   "outputs": [],
   "source": [
    "# response variable \n",
    "data['loan_status'] = data['loan_status'].replace('Fully Paid',0).replace('Charged Off',1)"
   ]
  },
  {
   "cell_type": "code",
   "execution_count": 85,
   "metadata": {},
   "outputs": [
    {
     "data": {
      "text/plain": [
       "zip_00813                          -0.178674\n",
       "zip_29597                          -0.177895\n",
       "zip_05113                          -0.177743\n",
       "term_ 36 months                    -0.173246\n",
       "verification_status_Not Verified   -0.085163\n",
       "                                      ...   \n",
       "int_rate                            0.247758\n",
       "zip_86630                           0.341889\n",
       "zip_93700                           0.344601\n",
       "zip_11650                           0.345792\n",
       "loan_status                         1.000000\n",
       "Name: loan_status, Length: 102, dtype: float64"
      ]
     },
     "execution_count": 85,
     "metadata": {},
     "output_type": "execute_result"
    }
   ],
   "source": [
    "data.corr()['loan_status'].sort_values()"
   ]
  },
  {
   "cell_type": "code",
   "execution_count": null,
   "metadata": {},
   "outputs": [],
   "source": [
    "X = data.drop('loan_status',axis=1)\n",
    "y = data['loan_status']"
   ]
  },
  {
   "cell_type": "markdown",
   "metadata": {},
   "source": [
    "# Split and scaling"
   ]
  },
  {
   "cell_type": "code",
   "execution_count": 96,
   "metadata": {},
   "outputs": [],
   "source": [
    "from sklearn.model_selection import train_test_split\n",
    "\n",
    "X_train, X_test, y_train, y_test = train_test_split(X, y, test_size=0.25, random_state=101)\n",
    "\n",
    "scaler = MinMaxScaler().fit(X_train)\n",
    "\n",
    "X_train_norm = scaler.transform(X_train)\n",
    "X_test_norm = scaler.transform(X_test)"
   ]
  },
  {
   "cell_type": "markdown",
   "metadata": {},
   "source": [
    "# Logistic regression for comparison"
   ]
  },
  {
   "cell_type": "code",
   "execution_count": 99,
   "metadata": {},
   "outputs": [],
   "source": [
    "from sklearn.linear_model import LogisticRegression\n",
    "LR = LogisticRegression(max_iter = 10000)\n",
    "LR.fit(X_train_norm,y_train)\n",
    "preds_LR = LR.predict(X_test_norm)\n",
    "\n",
    "print(\"Accuracy\",accuracy_score(y_test,preds_LR))\n",
    "print(\"Precision\",precision_score(y_test,preds_LR))\n",
    "print(\"Recall\",recall_score(y_test,preds_LR))\n",
    "\n",
    "confusion_matrix(y_test,preds_LR)"
   ]
  },
  {
   "cell_type": "markdown",
   "metadata": {},
   "source": [
    "# NN Grid search"
   ]
  },
  {
   "cell_type": "code",
   "execution_count": 126,
   "metadata": {},
   "outputs": [],
   "source": [
    "from sklearn.preprocessing import MinMaxScaler"
   ]
  },
  {
   "cell_type": "code",
   "execution_count": 163,
   "metadata": {},
   "outputs": [],
   "source": [
    "from keras.models import Sequential\n",
    "from keras.layers import Dense\n",
    "from keras.wrappers.scikit_learn import KerasClassifier\n",
    "from sklearn.model_selection import GridSearchCV, StratifiedKFold\n",
    "from tensorflow.keras.optimizers import Adam\n",
    "from tensorflow.keras.callbacks import EarlyStopping\n",
    "from keras.layers import Dropout"
   ]
  },
  {
   "cell_type": "code",
   "execution_count": 128,
   "metadata": {},
   "outputs": [],
   "source": [
    "scaler_grid_search = MinMaxScaler().fit(X)\n",
    "X_grid_search = scaler_grid_search.transform(X)"
   ]
  },
  {
   "cell_type": "code",
   "execution_count": 141,
   "metadata": {},
   "outputs": [],
   "source": [
    "def create_model(activation='relu',neurons=1,dropout_rate=0):\n",
    "    model = Sequential()\n",
    "\n",
    "    model.add(Dense(neurons, activation=activation))\n",
    "    model.add(Dropout(dropout_rate))\n",
    "    model.add(Dense(neurons/2, activation=activation))\n",
    "    model.add(Dropout(dropout_rate))\n",
    "    model.add(Dense(neurons/2, activation=activation))\n",
    "    model.add(Dense(1,activation='sigmoid'))\n",
    "    model.compile(loss='BinaryCrossentropy', optimizer='adam')\n",
    "    \n",
    "    return model"
   ]
  },
  {
   "cell_type": "code",
   "execution_count": 152,
   "metadata": {},
   "outputs": [],
   "source": [
    "model = KerasClassifier(build_fn=create_model)"
   ]
  },
  {
   "cell_type": "code",
   "execution_count": 164,
   "metadata": {},
   "outputs": [],
   "source": [
    "skf = StratifiedKFold(n_splits=3, shuffle = True, random_state = 1001)\n",
    "\n",
    "param_grid_NN = dict(\n",
    "                     epochs = [40,60,80,100] \n",
    "                    ,batch_size = [2048] \n",
    "                    ,neurons = [92,184]\n",
    "                    ,activation = ['softmax', 'softplus', 'softsign', 'relu', 'tanh', 'sigmoid', 'hard_sigmoid', 'linear']\n",
    "                    \n",
    "#                     ,learn_rate = [0.001, 0.01, 0.1, 0.2, 0.3]\n",
    "#                     ,momentum = [0.0, 0.2, 0.4, 0.6, 0.8, 0.9]\n",
    "    \n",
    "#                     ,init_mode = ['uniform', 'lecun_uniform', 'normal', 'zero', 'glorot_normal', 'glorot_uniform', 'he_normal', 'he_uniform']\n",
    "\n",
    "#                     ,weight_constraint = [1, 2, 3, 4, 5]\n",
    "                    ,dropout_rate = [0.0, 0.1, 0.2]\n",
    "                  )\n",
    "\n",
    "grid_model = GridSearchCV(estimator=model, scoring='accuracy', param_grid=param_grid_NN, n_jobs=1, cv=skf.split(X_grid_search,y))"
   ]
  },
  {
   "cell_type": "code",
   "execution_count": 166,
   "metadata": {},
   "outputs": [],
   "source": [
    "# grid_result = grid_model.fit(X_grid_search, y.values)"
   ]
  },
  {
   "cell_type": "code",
   "execution_count": 158,
   "metadata": {},
   "outputs": [
    {
     "name": "stdout",
     "output_type": "stream",
     "text": [
      "Best: 0.888622 using {'activation': 'hard_sigmoid', 'batch_size': 2048, 'dropout_rate': 0.2, 'epochs': 40, 'neurons': 92}\n",
      "0.888604 (0.000635) with: {'activation': 'softmax', 'batch_size': 2048, 'dropout_rate': 0.0, 'epochs': 40, 'neurons': 92}\n",
      "0.888420 (0.000713) with: {'activation': 'softmax', 'batch_size': 2048, 'dropout_rate': 0.0, 'epochs': 40, 'neurons': 184}\n",
      "0.888200 (0.000809) with: {'activation': 'softmax', 'batch_size': 2048, 'dropout_rate': 0.1, 'epochs': 40, 'neurons': 92}\n",
      "0.888319 (0.000899) with: {'activation': 'softmax', 'batch_size': 2048, 'dropout_rate': 0.1, 'epochs': 40, 'neurons': 184}\n",
      "0.888117 (0.000872) with: {'activation': 'softmax', 'batch_size': 2048, 'dropout_rate': 0.2, 'epochs': 40, 'neurons': 92}\n",
      "0.888175 (0.000891) with: {'activation': 'softmax', 'batch_size': 2048, 'dropout_rate': 0.2, 'epochs': 40, 'neurons': 184}\n",
      "0.888407 (0.000778) with: {'activation': 'softplus', 'batch_size': 2048, 'dropout_rate': 0.0, 'epochs': 40, 'neurons': 92}\n",
      "0.888572 (0.000704) with: {'activation': 'softplus', 'batch_size': 2048, 'dropout_rate': 0.0, 'epochs': 40, 'neurons': 184}\n",
      "0.888370 (0.000847) with: {'activation': 'softplus', 'batch_size': 2048, 'dropout_rate': 0.1, 'epochs': 40, 'neurons': 92}\n",
      "0.888425 (0.000752) with: {'activation': 'softplus', 'batch_size': 2048, 'dropout_rate': 0.1, 'epochs': 40, 'neurons': 184}\n",
      "0.888228 (0.000867) with: {'activation': 'softplus', 'batch_size': 2048, 'dropout_rate': 0.2, 'epochs': 40, 'neurons': 92}\n",
      "0.888294 (0.000843) with: {'activation': 'softplus', 'batch_size': 2048, 'dropout_rate': 0.2, 'epochs': 40, 'neurons': 184}\n",
      "0.888193 (0.000573) with: {'activation': 'softsign', 'batch_size': 2048, 'dropout_rate': 0.0, 'epochs': 40, 'neurons': 92}\n",
      "0.885764 (0.002335) with: {'activation': 'softsign', 'batch_size': 2048, 'dropout_rate': 0.0, 'epochs': 40, 'neurons': 184}\n",
      "0.888493 (0.000796) with: {'activation': 'softsign', 'batch_size': 2048, 'dropout_rate': 0.1, 'epochs': 40, 'neurons': 92}\n",
      "0.888556 (0.000763) with: {'activation': 'softsign', 'batch_size': 2048, 'dropout_rate': 0.1, 'epochs': 40, 'neurons': 184}\n",
      "0.888521 (0.000690) with: {'activation': 'softsign', 'batch_size': 2048, 'dropout_rate': 0.2, 'epochs': 40, 'neurons': 92}\n",
      "0.888473 (0.000799) with: {'activation': 'softsign', 'batch_size': 2048, 'dropout_rate': 0.2, 'epochs': 40, 'neurons': 184}\n",
      "0.886249 (0.000423) with: {'activation': 'relu', 'batch_size': 2048, 'dropout_rate': 0.0, 'epochs': 40, 'neurons': 92}\n",
      "0.883971 (0.001009) with: {'activation': 'relu', 'batch_size': 2048, 'dropout_rate': 0.0, 'epochs': 40, 'neurons': 184}\n",
      "0.887721 (0.000685) with: {'activation': 'relu', 'batch_size': 2048, 'dropout_rate': 0.1, 'epochs': 40, 'neurons': 92}\n",
      "0.884312 (0.000677) with: {'activation': 'relu', 'batch_size': 2048, 'dropout_rate': 0.1, 'epochs': 40, 'neurons': 184}\n",
      "0.887670 (0.000981) with: {'activation': 'relu', 'batch_size': 2048, 'dropout_rate': 0.2, 'epochs': 40, 'neurons': 92}\n",
      "0.886544 (0.001028) with: {'activation': 'relu', 'batch_size': 2048, 'dropout_rate': 0.2, 'epochs': 40, 'neurons': 184}\n",
      "0.888216 (0.000510) with: {'activation': 'tanh', 'batch_size': 2048, 'dropout_rate': 0.0, 'epochs': 40, 'neurons': 92}\n",
      "0.888145 (0.000819) with: {'activation': 'tanh', 'batch_size': 2048, 'dropout_rate': 0.0, 'epochs': 40, 'neurons': 184}\n",
      "0.888501 (0.000817) with: {'activation': 'tanh', 'batch_size': 2048, 'dropout_rate': 0.1, 'epochs': 40, 'neurons': 92}\n",
      "0.887955 (0.000660) with: {'activation': 'tanh', 'batch_size': 2048, 'dropout_rate': 0.1, 'epochs': 40, 'neurons': 184}\n",
      "0.888612 (0.000718) with: {'activation': 'tanh', 'batch_size': 2048, 'dropout_rate': 0.2, 'epochs': 40, 'neurons': 92}\n",
      "0.888466 (0.000734) with: {'activation': 'tanh', 'batch_size': 2048, 'dropout_rate': 0.2, 'epochs': 40, 'neurons': 184}\n",
      "0.888221 (0.000449) with: {'activation': 'sigmoid', 'batch_size': 2048, 'dropout_rate': 0.0, 'epochs': 40, 'neurons': 92}\n",
      "0.888402 (0.000569) with: {'activation': 'sigmoid', 'batch_size': 2048, 'dropout_rate': 0.0, 'epochs': 40, 'neurons': 184}\n",
      "0.888440 (0.000719) with: {'activation': 'sigmoid', 'batch_size': 2048, 'dropout_rate': 0.1, 'epochs': 40, 'neurons': 92}\n",
      "0.888299 (0.000674) with: {'activation': 'sigmoid', 'batch_size': 2048, 'dropout_rate': 0.1, 'epochs': 40, 'neurons': 184}\n",
      "0.888415 (0.000786) with: {'activation': 'sigmoid', 'batch_size': 2048, 'dropout_rate': 0.2, 'epochs': 40, 'neurons': 92}\n",
      "0.888375 (0.000721) with: {'activation': 'sigmoid', 'batch_size': 2048, 'dropout_rate': 0.2, 'epochs': 40, 'neurons': 184}\n",
      "0.888574 (0.000808) with: {'activation': 'hard_sigmoid', 'batch_size': 2048, 'dropout_rate': 0.0, 'epochs': 40, 'neurons': 92}\n",
      "0.888248 (0.000556) with: {'activation': 'hard_sigmoid', 'batch_size': 2048, 'dropout_rate': 0.0, 'epochs': 40, 'neurons': 184}\n",
      "0.888473 (0.000699) with: {'activation': 'hard_sigmoid', 'batch_size': 2048, 'dropout_rate': 0.1, 'epochs': 40, 'neurons': 92}\n",
      "0.888620 (0.000954) with: {'activation': 'hard_sigmoid', 'batch_size': 2048, 'dropout_rate': 0.1, 'epochs': 40, 'neurons': 184}\n",
      "0.888622 (0.000786) with: {'activation': 'hard_sigmoid', 'batch_size': 2048, 'dropout_rate': 0.2, 'epochs': 40, 'neurons': 92}\n",
      "0.888541 (0.000800) with: {'activation': 'hard_sigmoid', 'batch_size': 2048, 'dropout_rate': 0.2, 'epochs': 40, 'neurons': 184}\n",
      "0.888609 (0.000803) with: {'activation': 'linear', 'batch_size': 2048, 'dropout_rate': 0.0, 'epochs': 40, 'neurons': 92}\n",
      "0.888322 (0.000754) with: {'activation': 'linear', 'batch_size': 2048, 'dropout_rate': 0.0, 'epochs': 40, 'neurons': 184}\n",
      "0.888567 (0.000902) with: {'activation': 'linear', 'batch_size': 2048, 'dropout_rate': 0.1, 'epochs': 40, 'neurons': 92}\n",
      "0.888395 (0.000753) with: {'activation': 'linear', 'batch_size': 2048, 'dropout_rate': 0.1, 'epochs': 40, 'neurons': 184}\n",
      "0.888496 (0.000810) with: {'activation': 'linear', 'batch_size': 2048, 'dropout_rate': 0.2, 'epochs': 40, 'neurons': 92}\n",
      "0.888430 (0.000670) with: {'activation': 'linear', 'batch_size': 2048, 'dropout_rate': 0.2, 'epochs': 40, 'neurons': 184}\n"
     ]
    }
   ],
   "source": [
    "print(\"Best: %f using %s\" % (grid_result.best_score_, grid_result.best_params_))\n",
    "means = grid_result.cv_results_['mean_test_score']\n",
    "stds = grid_result.cv_results_['std_test_score']\n",
    "params = grid_result.cv_results_['params']\n",
    "for mean, stdev, param in zip(means, stds, params):\n",
    "    print(\"%f (%f) with: %r\" % (mean, stdev, param))"
   ]
  },
  {
   "cell_type": "markdown",
   "metadata": {},
   "source": [
    "# Neural network final"
   ]
  },
  {
   "cell_type": "code",
   "execution_count": 192,
   "metadata": {},
   "outputs": [],
   "source": [
    "callback = EarlyStopping(monitor='val_loss', patience=20, mode='min')\n",
    "\n",
    "model_final = Sequential()\n",
    "\n",
    "model_final.add(Dense(92, activation='hard_sigmoid'))\n",
    "model_final.add(Dropout(0.2))\n",
    "model_final.add(Dense(92, activation='hard_sigmoid'))\n",
    "model_final.add(Dropout(0.2))\n",
    "model_final.add(Dense(92, activation='hard_sigmoid'))\n",
    "model_final.add(Dense(1,activation='sigmoid'))\n",
    "\n",
    "model_final.compile(loss='BinaryCrossentropy', optimizer='adam')"
   ]
  },
  {
   "cell_type": "code",
   "execution_count": 197,
   "metadata": {},
   "outputs": [
    {
     "name": "stdout",
     "output_type": "stream",
     "text": [
      "Epoch 1/200\n",
      "146/146 [==============================] - 2s 10ms/step - loss: 0.2941 - val_loss: 0.2664\n",
      "Epoch 2/200\n",
      "146/146 [==============================] - 1s 9ms/step - loss: 0.2786 - val_loss: 0.2628\n",
      "Epoch 3/200\n",
      "146/146 [==============================] - 2s 11ms/step - loss: 0.2731 - val_loss: 0.2618\n",
      "Epoch 4/200\n",
      "146/146 [==============================] - 2s 13ms/step - loss: 0.2710 - val_loss: 0.2609\n",
      "Epoch 5/200\n",
      "146/146 [==============================] - 2s 14ms/step - loss: 0.2696 - val_loss: 0.2610\n",
      "Epoch 6/200\n",
      "146/146 [==============================] - 2s 12ms/step - loss: 0.2683 - val_loss: 0.2608\n",
      "Epoch 7/200\n",
      "146/146 [==============================] - 2s 15ms/step - loss: 0.2670 - val_loss: 0.2597\n",
      "Epoch 8/200\n",
      "146/146 [==============================] - ETA: 0s - loss: 0.266 - 2s 12ms/step - loss: 0.2663 - val_loss: 0.2596\n",
      "Epoch 9/200\n",
      "146/146 [==============================] - 2s 13ms/step - loss: 0.2660 - val_loss: 0.2597\n",
      "Epoch 10/200\n",
      "146/146 [==============================] - 2s 13ms/step - loss: 0.2654 - val_loss: 0.2592\n",
      "Epoch 11/200\n",
      "146/146 [==============================] - 2s 16ms/step - loss: 0.2657 - val_loss: 0.2591\n",
      "Epoch 12/200\n",
      "146/146 [==============================] - 2s 17ms/step - loss: 0.2645 - val_loss: 0.2592\n",
      "Epoch 13/200\n",
      "146/146 [==============================] - 2s 12ms/step - loss: 0.2640 - val_loss: 0.2587\n",
      "Epoch 14/200\n",
      "146/146 [==============================] - 3s 18ms/step - loss: 0.2637 - val_loss: 0.2588\n",
      "Epoch 15/200\n",
      "146/146 [==============================] - 2s 14ms/step - loss: 0.2632 - val_loss: 0.2591\n",
      "Epoch 16/200\n",
      "146/146 [==============================] - 2s 16ms/step - loss: 0.2629 - val_loss: 0.2583\n",
      "Epoch 17/200\n",
      "146/146 [==============================] - 2s 15ms/step - loss: 0.2620 - val_loss: 0.2579\n",
      "Epoch 18/200\n",
      "146/146 [==============================] - 2s 15ms/step - loss: 0.2619 - val_loss: 0.2584\n",
      "Epoch 19/200\n",
      "146/146 [==============================] - 2s 14ms/step - loss: 0.2612 - val_loss: 0.2579\n",
      "Epoch 20/200\n",
      "146/146 [==============================] - 2s 14ms/step - loss: 0.2608 - val_loss: 0.2577\n",
      "Epoch 21/200\n",
      "146/146 [==============================] - 2s 14ms/step - loss: 0.2606 - val_loss: 0.2577\n",
      "Epoch 22/200\n",
      "146/146 [==============================] - 2s 14ms/step - loss: 0.2602 - val_loss: 0.2579\n",
      "Epoch 23/200\n",
      "146/146 [==============================] - 2s 15ms/step - loss: 0.2598 - val_loss: 0.2591\n",
      "Epoch 24/200\n",
      "146/146 [==============================] - 2s 14ms/step - loss: 0.2595 - val_loss: 0.2574\n",
      "Epoch 25/200\n",
      "146/146 [==============================] - 2s 14ms/step - loss: 0.2591 - val_loss: 0.2590\n",
      "Epoch 26/200\n",
      "146/146 [==============================] - 2s 14ms/step - loss: 0.2593 - val_loss: 0.2576\n",
      "Epoch 27/200\n",
      "146/146 [==============================] - 2s 14ms/step - loss: 0.2591 - val_loss: 0.2583\n",
      "Epoch 28/200\n",
      "146/146 [==============================] - 2s 14ms/step - loss: 0.2591 - val_loss: 0.2571\n",
      "Epoch 29/200\n",
      "146/146 [==============================] - 2s 14ms/step - loss: 0.2587 - val_loss: 0.2572\n",
      "Epoch 30/200\n",
      "146/146 [==============================] - 2s 16ms/step - loss: 0.2584 - val_loss: 0.2574\n",
      "Epoch 31/200\n",
      "146/146 [==============================] - 2s 16ms/step - loss: 0.2584 - val_loss: 0.2575\n",
      "Epoch 32/200\n",
      "146/146 [==============================] - 2s 14ms/step - loss: 0.2583 - val_loss: 0.2570\n",
      "Epoch 33/200\n",
      "146/146 [==============================] - 2s 14ms/step - loss: 0.2582 - val_loss: 0.2573\n",
      "Epoch 34/200\n",
      "146/146 [==============================] - 2s 14ms/step - loss: 0.2580 - val_loss: 0.2571\n",
      "Epoch 35/200\n",
      "146/146 [==============================] - 2s 14ms/step - loss: 0.2578 - val_loss: 0.2568\n",
      "Epoch 36/200\n",
      "146/146 [==============================] - 2s 13ms/step - loss: 0.2582 - val_loss: 0.2569\n",
      "Epoch 37/200\n",
      "146/146 [==============================] - 2s 13ms/step - loss: 0.2579 - val_loss: 0.2587\n",
      "Epoch 38/200\n",
      "146/146 [==============================] - 2s 15ms/step - loss: 0.2579 - val_loss: 0.2592\n",
      "Epoch 39/200\n",
      "146/146 [==============================] - 2s 15ms/step - loss: 0.2579 - val_loss: 0.2580\n",
      "Epoch 40/200\n",
      "146/146 [==============================] - 2s 14ms/step - loss: 0.2575 - val_loss: 0.2569\n",
      "Epoch 41/200\n",
      "146/146 [==============================] - 2s 14ms/step - loss: 0.2575 - val_loss: 0.2567\n",
      "Epoch 42/200\n",
      "146/146 [==============================] - 2s 13ms/step - loss: 0.2573 - val_loss: 0.2568\n",
      "Epoch 43/200\n",
      "146/146 [==============================] - 2s 13ms/step - loss: 0.2575 - val_loss: 0.2567\n",
      "Epoch 44/200\n",
      "146/146 [==============================] - 2s 13ms/step - loss: 0.2571 - val_loss: 0.2566\n",
      "Epoch 45/200\n",
      "146/146 [==============================] - 2s 14ms/step - loss: 0.2572 - val_loss: 0.2575\n",
      "Epoch 46/200\n",
      "146/146 [==============================] - 2s 15ms/step - loss: 0.2571 - val_loss: 0.2571\n",
      "Epoch 47/200\n",
      "146/146 [==============================] - 2s 16ms/step - loss: 0.2569 - val_loss: 0.2571\n",
      "Epoch 48/200\n",
      "146/146 [==============================] - 2s 14ms/step - loss: 0.2572 - val_loss: 0.2567\n",
      "Epoch 49/200\n",
      "146/146 [==============================] - 2s 14ms/step - loss: 0.2568 - val_loss: 0.2573\n",
      "Epoch 50/200\n",
      "146/146 [==============================] - 2s 14ms/step - loss: 0.2573 - val_loss: 0.2568\n",
      "Epoch 51/200\n",
      "146/146 [==============================] - 2s 16ms/step - loss: 0.2567 - val_loss: 0.2570\n",
      "Epoch 52/200\n",
      "146/146 [==============================] - 2s 14ms/step - loss: 0.2567 - val_loss: 0.2567\n",
      "Epoch 53/200\n",
      "146/146 [==============================] - 2s 15ms/step - loss: 0.2567 - val_loss: 0.2566\n",
      "Epoch 54/200\n",
      "146/146 [==============================] - 2s 15ms/step - loss: 0.2566 - val_loss: 0.2574\n",
      "Epoch 55/200\n",
      "146/146 [==============================] - 2s 14ms/step - loss: 0.2568 - val_loss: 0.2573\n",
      "Epoch 56/200\n",
      "146/146 [==============================] - 2s 14ms/step - loss: 0.2564 - val_loss: 0.2565\n",
      "Epoch 57/200\n",
      "146/146 [==============================] - 2s 14ms/step - loss: 0.2565 - val_loss: 0.2566\n",
      "Epoch 58/200\n",
      "146/146 [==============================] - 2s 13ms/step - loss: 0.2566 - val_loss: 0.2567\n",
      "Epoch 59/200\n",
      "146/146 [==============================] - 2s 14ms/step - loss: 0.2562 - val_loss: 0.2572\n",
      "Epoch 60/200\n",
      "146/146 [==============================] - 2s 14ms/step - loss: 0.2563 - val_loss: 0.2565\n",
      "Epoch 61/200\n",
      "146/146 [==============================] - 2s 15ms/step - loss: 0.2563 - val_loss: 0.2566\n",
      "Epoch 62/200\n",
      "146/146 [==============================] - 2s 15ms/step - loss: 0.2563 - val_loss: 0.2567\n",
      "Epoch 63/200\n",
      "146/146 [==============================] - 2s 14ms/step - loss: 0.2560 - val_loss: 0.2564\n",
      "Epoch 64/200\n",
      "146/146 [==============================] - 2s 14ms/step - loss: 0.2561 - val_loss: 0.2566\n",
      "Epoch 65/200\n",
      "146/146 [==============================] - 2s 14ms/step - loss: 0.2563 - val_loss: 0.2573\n",
      "Epoch 66/200\n",
      "146/146 [==============================] - 2s 14ms/step - loss: 0.2562 - val_loss: 0.2571\n",
      "Epoch 67/200\n",
      "146/146 [==============================] - 2s 14ms/step - loss: 0.2560 - val_loss: 0.2565\n",
      "Epoch 68/200\n",
      "146/146 [==============================] - 2s 14ms/step - loss: 0.2559 - val_loss: 0.2575\n",
      "Epoch 69/200\n",
      "146/146 [==============================] - 2s 15ms/step - loss: 0.2559 - val_loss: 0.2566\n",
      "Epoch 70/200\n",
      "146/146 [==============================] - 2s 15ms/step - loss: 0.2559 - val_loss: 0.2564\n",
      "Epoch 71/200\n",
      "146/146 [==============================] - 2s 14ms/step - loss: 0.2559 - val_loss: 0.2564\n",
      "Epoch 72/200\n",
      "146/146 [==============================] - 2s 14ms/step - loss: 0.2558 - val_loss: 0.2563\n",
      "Epoch 73/200\n",
      "146/146 [==============================] - 2s 14ms/step - loss: 0.2554 - val_loss: 0.2564\n",
      "Epoch 74/200\n",
      "146/146 [==============================] - 2s 13ms/step - loss: 0.2556 - val_loss: 0.2567\n",
      "Epoch 75/200\n",
      "146/146 [==============================] - 2s 14ms/step - loss: 0.2555 - val_loss: 0.2568\n",
      "Epoch 76/200\n",
      "146/146 [==============================] - 2s 15ms/step - loss: 0.2555 - val_loss: 0.2565\n",
      "Epoch 77/200\n",
      "146/146 [==============================] - 2s 16ms/step - loss: 0.2553 - val_loss: 0.2566\n",
      "Epoch 78/200\n",
      "146/146 [==============================] - 2s 14ms/step - loss: 0.2555 - val_loss: 0.2562\n",
      "Epoch 79/200\n",
      "146/146 [==============================] - 2s 14ms/step - loss: 0.2553 - val_loss: 0.2570\n",
      "Epoch 80/200\n"
     ]
    },
    {
     "name": "stdout",
     "output_type": "stream",
     "text": [
      "146/146 [==============================] - 2s 13ms/step - loss: 0.2553 - val_loss: 0.2567\n",
      "Epoch 81/200\n",
      "146/146 [==============================] - 2s 13ms/step - loss: 0.2555 - val_loss: 0.2566\n",
      "Epoch 82/200\n",
      "146/146 [==============================] - 2s 13ms/step - loss: 0.2552 - val_loss: 0.2563\n",
      "Epoch 83/200\n",
      "146/146 [==============================] - 2s 13ms/step - loss: 0.2554 - val_loss: 0.2563\n",
      "Epoch 84/200\n",
      "146/146 [==============================] - 2s 13ms/step - loss: 0.2552 - val_loss: 0.2566\n",
      "Epoch 85/200\n",
      "146/146 [==============================] - 2s 15ms/step - loss: 0.2552 - val_loss: 0.2562\n",
      "Epoch 86/200\n",
      "146/146 [==============================] - 2s 14ms/step - loss: 0.2550 - val_loss: 0.2572\n",
      "Epoch 87/200\n",
      "146/146 [==============================] - 2s 14ms/step - loss: 0.2554 - val_loss: 0.2564\n",
      "Epoch 88/200\n",
      "146/146 [==============================] - 2s 13ms/step - loss: 0.2551 - val_loss: 0.2566\n",
      "Epoch 89/200\n",
      "146/146 [==============================] - 2s 13ms/step - loss: 0.2550 - val_loss: 0.2566\n",
      "Epoch 90/200\n",
      "146/146 [==============================] - 2s 12ms/step - loss: 0.2549 - val_loss: 0.2564\n",
      "Epoch 91/200\n",
      "146/146 [==============================] - 2s 14ms/step - loss: 0.2549 - val_loss: 0.2562\n",
      "Epoch 92/200\n",
      "146/146 [==============================] - 2s 16ms/step - loss: 0.2551 - val_loss: 0.2561\n",
      "Epoch 93/200\n",
      "146/146 [==============================] - 2s 15ms/step - loss: 0.2547 - val_loss: 0.2563\n",
      "Epoch 94/200\n",
      "146/146 [==============================] - 2s 11ms/step - loss: 0.2549 - val_loss: 0.2563\n",
      "Epoch 95/200\n",
      "146/146 [==============================] - 2s 11ms/step - loss: 0.2546 - val_loss: 0.2562\n",
      "Epoch 96/200\n",
      "146/146 [==============================] - 2s 11ms/step - loss: 0.2548 - val_loss: 0.2561\n",
      "Epoch 97/200\n",
      "146/146 [==============================] - 2s 11ms/step - loss: 0.2547 - val_loss: 0.2567\n",
      "Epoch 98/200\n",
      "146/146 [==============================] - 2s 11ms/step - loss: 0.2546 - val_loss: 0.2569\n",
      "Epoch 99/200\n",
      "146/146 [==============================] - 2s 11ms/step - loss: 0.2548 - val_loss: 0.2564\n",
      "Epoch 100/200\n",
      "146/146 [==============================] - 2s 11ms/step - loss: 0.2547 - val_loss: 0.2567\n",
      "Epoch 101/200\n",
      "146/146 [==============================] - 2s 11ms/step - loss: 0.2546 - val_loss: 0.2563\n",
      "Epoch 102/200\n",
      "146/146 [==============================] - 2s 12ms/step - loss: 0.2543 - val_loss: 0.2561\n",
      "Epoch 103/200\n",
      "146/146 [==============================] - 2s 12ms/step - loss: 0.2542 - val_loss: 0.2565\n",
      "Epoch 104/200\n",
      "146/146 [==============================] - 2s 11ms/step - loss: 0.2542 - val_loss: 0.2566\n",
      "Epoch 105/200\n",
      "146/146 [==============================] - 2s 11ms/step - loss: 0.2543 - val_loss: 0.2561\n",
      "Epoch 106/200\n",
      "146/146 [==============================] - 2s 11ms/step - loss: 0.2545 - val_loss: 0.2565\n",
      "Epoch 107/200\n",
      "146/146 [==============================] - 2s 11ms/step - loss: 0.2546 - val_loss: 0.2561\n",
      "Epoch 108/200\n",
      "146/146 [==============================] - 2s 11ms/step - loss: 0.2542 - val_loss: 0.2560\n",
      "Epoch 109/200\n",
      "146/146 [==============================] - 2s 11ms/step - loss: 0.2542 - val_loss: 0.2569\n",
      "Epoch 110/200\n",
      "146/146 [==============================] - 2s 11ms/step - loss: 0.2542 - val_loss: 0.2561\n",
      "Epoch 111/200\n",
      "146/146 [==============================] - 2s 11ms/step - loss: 0.2540 - val_loss: 0.2565\n",
      "Epoch 112/200\n",
      "146/146 [==============================] - 2s 11ms/step - loss: 0.2544 - val_loss: 0.2561\n",
      "Epoch 113/200\n",
      "146/146 [==============================] - 2s 12ms/step - loss: 0.2543 - val_loss: 0.2560\n",
      "Epoch 114/200\n",
      "146/146 [==============================] - 2s 11ms/step - loss: 0.2539 - val_loss: 0.2561\n",
      "Epoch 115/200\n",
      "146/146 [==============================] - 2s 11ms/step - loss: 0.2539 - val_loss: 0.2579\n",
      "Epoch 116/200\n",
      "146/146 [==============================] - 2s 11ms/step - loss: 0.2543 - val_loss: 0.2565\n",
      "Epoch 117/200\n",
      "146/146 [==============================] - 2s 11ms/step - loss: 0.2542 - val_loss: 0.2560\n",
      "Epoch 118/200\n",
      "146/146 [==============================] - 2s 14ms/step - loss: 0.2540 - val_loss: 0.2562\n",
      "Epoch 119/200\n",
      "146/146 [==============================] - 2s 15ms/step - loss: 0.2542 - val_loss: 0.2560\n",
      "Epoch 120/200\n",
      "146/146 [==============================] - 2s 13ms/step - loss: 0.2538 - val_loss: 0.2564\n",
      "Epoch 121/200\n",
      "146/146 [==============================] - 2s 14ms/step - loss: 0.2540 - val_loss: 0.2564\n",
      "Epoch 122/200\n",
      "146/146 [==============================] - 2s 15ms/step - loss: 0.2542 - val_loss: 0.2561\n",
      "Epoch 123/200\n",
      "146/146 [==============================] - 2s 15ms/step - loss: 0.2541 - val_loss: 0.2559\n",
      "Epoch 124/200\n",
      "146/146 [==============================] - 2s 15ms/step - loss: 0.2538 - val_loss: 0.2559\n",
      "Epoch 125/200\n",
      "146/146 [==============================] - 2s 16ms/step - loss: 0.2537 - val_loss: 0.2562\n",
      "Epoch 126/200\n",
      "146/146 [==============================] - 3s 19ms/step - loss: 0.2539 - val_loss: 0.2560\n",
      "Epoch 127/200\n",
      "146/146 [==============================] - 2s 15ms/step - loss: 0.2539 - val_loss: 0.2559\n",
      "Epoch 128/200\n",
      "146/146 [==============================] - 2s 16ms/step - loss: 0.2539 - val_loss: 0.2571\n",
      "Epoch 129/200\n",
      "146/146 [==============================] - 2s 17ms/step - loss: 0.2538 - val_loss: 0.2559\n",
      "Epoch 130/200\n",
      "146/146 [==============================] - 2s 17ms/step - loss: 0.2538 - val_loss: 0.2574\n",
      "Epoch 131/200\n",
      "146/146 [==============================] - 2s 15ms/step - loss: 0.2537 - val_loss: 0.2561\n",
      "Epoch 132/200\n",
      "146/146 [==============================] - 2s 13ms/step - loss: 0.2537 - val_loss: 0.2561\n",
      "Epoch 133/200\n",
      "146/146 [==============================] - 2s 13ms/step - loss: 0.2537 - val_loss: 0.2562\n",
      "Epoch 134/200\n",
      "146/146 [==============================] - 2s 13ms/step - loss: 0.2537 - val_loss: 0.2558\n",
      "Epoch 135/200\n",
      "146/146 [==============================] - 2s 15ms/step - loss: 0.2535 - val_loss: 0.2560\n",
      "Epoch 136/200\n",
      "146/146 [==============================] - 2s 15ms/step - loss: 0.2536 - val_loss: 0.2565\n",
      "Epoch 137/200\n",
      "146/146 [==============================] - 2s 14ms/step - loss: 0.2534 - val_loss: 0.2560\n",
      "Epoch 138/200\n",
      "146/146 [==============================] - 2s 14ms/step - loss: 0.2536 - val_loss: 0.2563\n",
      "Epoch 139/200\n",
      "146/146 [==============================] - 2s 14ms/step - loss: 0.2534 - val_loss: 0.2559\n",
      "Epoch 140/200\n",
      "146/146 [==============================] - 2s 13ms/step - loss: 0.2534 - val_loss: 0.2559\n",
      "Epoch 141/200\n",
      "146/146 [==============================] - 2s 13ms/step - loss: 0.2536 - val_loss: 0.2569\n",
      "Epoch 142/200\n",
      "146/146 [==============================] - 2s 13ms/step - loss: 0.2533 - val_loss: 0.2559\n",
      "Epoch 143/200\n",
      "146/146 [==============================] - 2s 14ms/step - loss: 0.2531 - val_loss: 0.2562\n",
      "Epoch 144/200\n",
      "146/146 [==============================] - 2s 15ms/step - loss: 0.2532 - val_loss: 0.2560\n",
      "Epoch 145/200\n",
      "146/146 [==============================] - 2s 14ms/step - loss: 0.2533 - val_loss: 0.2562\n",
      "Epoch 146/200\n",
      "146/146 [==============================] - 2s 14ms/step - loss: 0.2532 - val_loss: 0.2559\n",
      "Epoch 147/200\n",
      "146/146 [==============================] - 2s 13ms/step - loss: 0.2530 - val_loss: 0.2568\n",
      "Epoch 148/200\n",
      "146/146 [==============================] - 2s 13ms/step - loss: 0.2533 - val_loss: 0.2564\n",
      "Epoch 149/200\n",
      "146/146 [==============================] - 2s 14ms/step - loss: 0.2533 - val_loss: 0.2562\n",
      "Epoch 150/200\n",
      "146/146 [==============================] - 2s 14ms/step - loss: 0.2532 - val_loss: 0.2568\n",
      "Epoch 151/200\n",
      "146/146 [==============================] - 2s 15ms/step - loss: 0.2532 - val_loss: 0.2560\n",
      "Epoch 152/200\n",
      "146/146 [==============================] - 2s 16ms/step - loss: 0.2528 - val_loss: 0.2561\n",
      "Epoch 153/200\n",
      "146/146 [==============================] - 2s 14ms/step - loss: 0.2532 - val_loss: 0.2558\n",
      "Epoch 154/200\n",
      "146/146 [==============================] - 2s 14ms/step - loss: 0.2530 - val_loss: 0.2564\n"
     ]
    },
    {
     "data": {
      "text/plain": [
       "<tensorflow.python.keras.callbacks.History at 0x2418653ac40>"
      ]
     },
     "execution_count": 197,
     "metadata": {},
     "output_type": "execute_result"
    }
   ],
   "source": [
    "model_final.fit(x=X_train_norm,y=y_train.values,\n",
    "              validation_data=(X_test_norm,y_test.values),\n",
    "              epochs=200,\n",
    "              batch_size=2048,\n",
    "              callbacks=callback)"
   ]
  },
  {
   "cell_type": "code",
   "execution_count": 200,
   "metadata": {},
   "outputs": [],
   "source": [
    "losses = pd.DataFrame(model_final.history.history)"
   ]
  },
  {
   "cell_type": "code",
   "execution_count": 201,
   "metadata": {},
   "outputs": [
    {
     "data": {
      "text/plain": [
       "<AxesSubplot:>"
      ]
     },
     "execution_count": 201,
     "metadata": {},
     "output_type": "execute_result"
    },
    {
     "data": {
      "image/png": "[encoded data removed]",
      "text/plain": [
       "<Figure size 1080x720 with 1 Axes>"
      ]
     },
     "metadata": {
      "needs_background": "light"
     },
     "output_type": "display_data"
    }
   ],
   "source": [
    "plt.figure(figsize=(15,10))\n",
    "sns.lineplot(data=losses)"
   ]
  },
  {
   "cell_type": "code",
   "execution_count": 202,
   "metadata": {},
   "outputs": [
    {
     "name": "stderr",
     "output_type": "stream",
     "text": [
      "C:\\Users\\42060\\anaconda3\\lib\\site-packages\\tensorflow\\python\\keras\\engine\\sequential.py:450: UserWarning: `model.predict_classes()` is deprecated and will be removed after 2021-01-01. Please use instead:* `np.argmax(model.predict(x), axis=-1)`,   if your model does multi-class classification   (e.g. if it uses a `softmax` last-layer activation).* `(model.predict(x) > 0.5).astype(\"int32\")`,   if your model does binary classification   (e.g. if it uses a `sigmoid` last-layer activation).\n",
      "  warnings.warn('`model.predict_classes()` is deprecated and '\n"
     ]
    }
   ],
   "source": [
    "preds = model_final.predict_classes(X_test_norm)"
   ]
  },
  {
   "cell_type": "code",
   "execution_count": 203,
   "metadata": {},
   "outputs": [
    {
     "data": {
      "text/plain": [
       "array([[0],\n",
       "       [0],\n",
       "       [0],\n",
       "       ...,\n",
       "       [0],\n",
       "       [0],\n",
       "       [0]])"
      ]
     },
     "execution_count": 203,
     "metadata": {},
     "output_type": "execute_result"
    }
   ],
   "source": [
    "preds"
   ]
  },
  {
   "cell_type": "markdown",
   "metadata": {},
   "source": [
    "# NN Evaluation"
   ]
  },
  {
   "cell_type": "code",
   "execution_count": 204,
   "metadata": {},
   "outputs": [],
   "source": [
    "from sklearn.metrics import accuracy_score, precision_score, recall_score, confusion_matrix"
   ]
  },
  {
   "cell_type": "code",
   "execution_count": 205,
   "metadata": {},
   "outputs": [
    {
     "name": "stdout",
     "output_type": "stream",
     "text": [
      "Accuracy 0.8892917744020685\n",
      "Precision 0.9461669144191973\n",
      "Recall 0.46016008262328945\n"
     ]
    }
   ],
   "source": [
    "print(\"Accuracy\",accuracy_score(y_test,preds))\n",
    "print(\"Precision\",precision_score(y_test,preds))\n",
    "print(\"Recall\",recall_score(y_test,preds))"
   ]
  },
  {
   "cell_type": "code",
   "execution_count": 206,
   "metadata": {},
   "outputs": [
    {
     "data": {
      "text/plain": [
       "array([[79136,   507],\n",
       "       [10454,  8911]], dtype=int64)"
      ]
     },
     "execution_count": 206,
     "metadata": {},
     "output_type": "execute_result"
    }
   ],
   "source": [
    "confusion_matrix(y_test,preds)"
   ]
  },
  {
   "cell_type": "markdown",
   "metadata": {},
   "source": [
    "# XGBoost Grid search"
   ]
  },
  {
   "cell_type": "code",
   "execution_count": 207,
   "metadata": {},
   "outputs": [],
   "source": [
    "from sklearn.model_selection import RandomizedSearchCV, StratifiedKFold"
   ]
  },
  {
   "cell_type": "code",
   "execution_count": 208,
   "metadata": {},
   "outputs": [],
   "source": [
    "xgb_grid = XGBClassifier(learning_rate=0.02, n_estimators=200, objective='binary:logistic',silent=True, nthread=1)"
   ]
  },
  {
   "cell_type": "code",
   "execution_count": 212,
   "metadata": {},
   "outputs": [],
   "source": [
    "skf = StratifiedKFold(n_splits=3, shuffle = True, random_state = 1001)\n",
    "\n",
    "param_grid_XGB = dict(\n",
    "    \n",
    "        min_child_weight= [1, 5, 10]\n",
    "        ,gamma= [0.5, 1, 1.5, 2, 5]\n",
    "        ,subsample= [0.6, 0.8, 1.0]\n",
    "        ,colsample_bytree= [0.6, 0.8, 1.0]\n",
    "        ,max_depth= [3, 4, 5]\n",
    "        ,n_estimators=[200, 300, 400, 500]\n",
    "        )\n",
    "\n",
    "grid_model_XGB = RandomizedSearchCV(xgb_grid, param_distributions=param_grid_XGB, n_iter=10, scoring='accuracy', n_jobs=1, cv=skf.split(X_grid_search,y), verbose=3, random_state=1001 )"
   ]
  },
  {
   "cell_type": "code",
   "execution_count": 224,
   "metadata": {},
   "outputs": [],
   "source": [
    "grid_result_XGB = grid_model_XGB.fit(X_grid_search, y.values)"
   ]
  },
  {
   "cell_type": "code",
   "execution_count": 215,
   "metadata": {},
   "outputs": [
    {
     "name": "stdout",
     "output_type": "stream",
     "text": [
      "Best: 0.888622 using {'subsample': 0.8, 'n_estimators': 500, 'min_child_weight': 10, 'max_depth': 5, 'gamma': 1, 'colsample_bytree': 1.0}\n",
      "0.888102 (0.000849) with: {'subsample': 0.8, 'n_estimators': 200, 'min_child_weight': 5, 'max_depth': 3, 'gamma': 2, 'colsample_bytree': 0.8}\n",
      "0.888102 (0.000849) with: {'subsample': 1.0, 'n_estimators': 300, 'min_child_weight': 1, 'max_depth': 4, 'gamma': 2, 'colsample_bytree': 0.8}\n",
      "0.888102 (0.000849) with: {'subsample': 0.8, 'n_estimators': 200, 'min_child_weight': 10, 'max_depth': 3, 'gamma': 1, 'colsample_bytree': 1.0}\n",
      "0.888811 (0.000856) with: {'subsample': 0.8, 'n_estimators': 500, 'min_child_weight': 10, 'max_depth': 4, 'gamma': 1.5, 'colsample_bytree': 0.6}\n",
      "0.888102 (0.000849) with: {'subsample': 1.0, 'n_estimators': 200, 'min_child_weight': 1, 'max_depth': 4, 'gamma': 5, 'colsample_bytree': 1.0}\n",
      "0.888135 (0.000874) with: {'subsample': 1.0, 'n_estimators': 500, 'min_child_weight': 1, 'max_depth': 3, 'gamma': 1.5, 'colsample_bytree': 0.6}\n",
      "0.889114 (0.000653) with: {'subsample': 0.8, 'n_estimators': 500, 'min_child_weight': 10, 'max_depth': 5, 'gamma': 1, 'colsample_bytree': 1.0}\n",
      "0.888102 (0.000849) with: {'subsample': 0.6, 'n_estimators': 300, 'min_child_weight': 10, 'max_depth': 4, 'gamma': 0.5, 'colsample_bytree': 0.8}\n",
      "0.888102 (0.000849) with: {'subsample': 0.6, 'n_estimators': 300, 'min_child_weight': 1, 'max_depth': 3, 'gamma': 2, 'colsample_bytree': 0.8}\n",
      "0.888963 (0.000685) with: {'subsample': 0.6, 'n_estimators': 500, 'min_child_weight': 5, 'max_depth': 4, 'gamma': 2, 'colsample_bytree': 1.0}\n"
     ]
    }
   ],
   "source": [
    "print(\"Best: %f using %s\" % (grid_result.best_score_, grid_result_XGB.best_params_))\n",
    "means = grid_result_XGB.cv_results_['mean_test_score']\n",
    "stds = grid_result_XGB.cv_results_['std_test_score']\n",
    "params = grid_result_XGB.cv_results_['params']\n",
    "for mean, stdev, param in zip(means, stds, params):\n",
    "    print(\"%f (%f) with: %r\" % (mean, stdev, param))"
   ]
  },
  {
   "cell_type": "markdown",
   "metadata": {},
   "source": [
    "# XGBoost Final"
   ]
  },
  {
   "cell_type": "code",
   "execution_count": 106,
   "metadata": {},
   "outputs": [],
   "source": [
    "from xgboost import XGBClassifier"
   ]
  },
  {
   "cell_type": "code",
   "execution_count": 219,
   "metadata": {},
   "outputs": [],
   "source": [
    "xgb = XGBClassifier(learning_rate=0.02, objective='binary:logistic',silent='True', nthread=1,subsample= 0.8, n_estimators= 500, min_child_weight= 10, max_depth= 5, gamma= 1, colsample_bytree= 1.0)"
   ]
  },
  {
   "cell_type": "code",
   "execution_count": 220,
   "metadata": {},
   "outputs": [
    {
     "name": "stdout",
     "output_type": "stream",
     "text": [
      "[17:15:18] WARNING: C:/Users/Administrator/workspace/xgboost-win64_release_1.3.0/src/learner.cc:541: \n",
      "Parameters: { silent } might not be used.\n",
      "\n",
      "  This may not be accurate due to some parameters are only used in language bindings but\n",
      "  passed down to XGBoost core.  Or some parameters are not used but slip through this\n",
      "  verification. Please open an issue if you find above cases.\n",
      "\n",
      "\n",
      "[17:15:19] WARNING: C:/Users/Administrator/workspace/xgboost-win64_release_1.3.0/src/learner.cc:1061: Starting in XGBoost 1.3.0, the default evaluation metric used with the objective 'binary:logistic' was changed from 'error' to 'logloss'. Explicitly set eval_metric if you'd like to restore the old behavior.\n"
     ]
    },
    {
     "data": {
      "text/plain": [
       "XGBClassifier(base_score=0.5, booster='gbtree', colsample_bylevel=1,\n",
       "              colsample_bynode=1, colsample_bytree=1.0, gamma=1, gpu_id=-1,\n",
       "              importance_type='gain', interaction_constraints='',\n",
       "              learning_rate=0.02, max_delta_step=0, max_depth=5,\n",
       "              min_child_weight=10, missing=nan, monotone_constraints='()',\n",
       "              n_estimators=500, n_jobs=1, nthread=1, num_parallel_tree=1,\n",
       "              random_state=0, reg_alpha=0, reg_lambda=1, scale_pos_weight=1,\n",
       "              silent='True', subsample=0.8, tree_method='exact',\n",
       "              validate_parameters=1, verbosity=None)"
      ]
     },
     "execution_count": 220,
     "metadata": {},
     "output_type": "execute_result"
    }
   ],
   "source": [
    "xgb.fit(X_train_norm,y_train)"
   ]
  },
  {
   "cell_type": "markdown",
   "metadata": {},
   "source": [
    "# XGB Evaluation"
   ]
  },
  {
   "cell_type": "code",
   "execution_count": 221,
   "metadata": {},
   "outputs": [],
   "source": [
    "preds_xgb = xgb.predict(X_test_norm)"
   ]
  },
  {
   "cell_type": "code",
   "execution_count": 222,
   "metadata": {},
   "outputs": [
    {
     "name": "stdout",
     "output_type": "stream",
     "text": [
      "Accuracy 0.8905643988364577\n",
      "Precision 0.9287293928427824\n",
      "Recall 0.47709785695843016\n"
     ]
    }
   ],
   "source": [
    "print(\"Accuracy\",accuracy_score(y_test,preds_XGB))\n",
    "print(\"Precision\",precision_score(y_test,preds_XGB))\n",
    "print(\"Recall\",recall_score(y_test,preds_XGB))"
   ]
  },
  {
   "cell_type": "code",
   "execution_count": 223,
   "metadata": {},
   "outputs": [
    {
     "data": {
      "text/plain": [
       "array([[78934,   709],\n",
       "       [10126,  9239]], dtype=int64)"
      ]
     },
     "execution_count": 223,
     "metadata": {},
     "output_type": "execute_result"
    }
   ],
   "source": [
    "confusion_matrix(y_test,preds_XGB)"
   ]
  }
 ],
 "metadata": {
  "kernelspec": {
   "display_name": "Python 3",
   "language": "python",
   "name": "python3"
  },
  "language_info": {
   "codemirror_mode": {
    "name": "ipython",
    "version": 3
   },
   "file_extension": ".py",
   "mimetype": "text/x-python",
   "name": "python",
   "nbconvert_exporter": "python",
   "pygments_lexer": "ipython3",
   "version": "3.8.5"
  }
 },
 "nbformat": 4,
 "nbformat_minor": 4
}
