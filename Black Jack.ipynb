{
 "cells": [
  {
   "cell_type": "code",
   "execution_count": 1,
   "metadata": {},
   "outputs": [],
   "source": [
    "class Player(object):\n",
    "    \n",
    "    def __init__(self,name = 'Player' , bankroll = 100):\n",
    "        self.name = name\n",
    "        self.bankroll = bankroll\n",
    "        \n",
    "    def add_bankroll(self, bet):\n",
    "        self.bankroll = self.bankroll + 2*bet\n",
    "        \n",
    "    def substract_bankroll(self, bet):\n",
    "        self.bankroll -= bet\n",
    "        \n",
    "    def bankroll_restart(self):\n",
    "        self.bankroll = 100"
   ]
  },
  {
   "cell_type": "code",
   "execution_count": 2,
   "metadata": {},
   "outputs": [],
   "source": [
    "class Player_hand(object):\n",
    "    \n",
    "    def __init__(self, name = 'Player_hand', score = 0):\n",
    "        self.name = name\n",
    "        self.score = score\n",
    "    \n",
    "    def add_score(self,add):\n",
    "        self.score += add\n",
    "    \n",
    "    def restart(self):\n",
    "        self.score = 0"
   ]
  },
  {
   "cell_type": "code",
   "execution_count": 3,
   "metadata": {},
   "outputs": [],
   "source": [
    "class Computer_hand(object):\n",
    "    \n",
    "    def __init__(self, name = 'Computer_hand', score = 0):\n",
    "        self.name = name\n",
    "        self.score = score\n",
    "    \n",
    "    def add_score(self,add):\n",
    "        self.score += add\n",
    "    \n",
    "    def restart(self):\n",
    "        self.score = 0"
   ]
  },
  {
   "cell_type": "code",
   "execution_count": 4,
   "metadata": {},
   "outputs": [],
   "source": [
    "class Card(object):\n",
    "    \n",
    "    def __init__(self, name, number, key):\n",
    "        self.name = name\n",
    "        self.number = number\n",
    "        self.key = key"
   ]
  },
  {
   "cell_type": "code",
   "execution_count": 5,
   "metadata": {},
   "outputs": [],
   "source": [
    "A = Card(name = 'A', number = 1, key = 1)\n",
    "Two = Card(name = 'Two', number = 2, key = 2)\n",
    "Three = Card(name = 'Three', number = 3, key = 3)\n",
    "Four = Card(name = 'Four', number = 4, key = 4)\n",
    "Five = Card(name = 'Five', number = 5, key = 5)\n",
    "Six = Card(name = 'Six', number = 6, key = 6)\n",
    "Seven = Card(name = 'Seven', number = 7, key = 7)\n",
    "Eight = Card(name = 'Eight', number = 8, key = 8)\n",
    "Nine = Card(name = 'Nine', number = 9, key = 9)\n",
    "Ten = Card(name = 'Ten', number = 10, key = 10)\n",
    "J = Card(name = 'J', number = 10, key = 11)\n",
    "Q = Card(name = 'Q', number = 10, key = 12)\n",
    "K = Card(name = 'K', number = 10, key = 13)\n",
    "\n",
    "Player_hand = Player_hand(score = 0)\n",
    "Computer_hand = Computer_hand(score = 0)\n",
    "\n",
    "Player = Player(name = 'Player')\n",
    "\n",
    "import random"
   ]
  },
  {
   "cell_type": "code",
   "execution_count": 6,
   "metadata": {},
   "outputs": [],
   "source": [
    "def card_pick():\n",
    "    Card = (A,Two,Three,Four,Five,Six,Seven,Eight,Nine,Ten,J,Q,K)\n",
    "    the_chosen_card = random.choice(Card)\n",
    "    return the_chosen_card.number"
   ]
  },
  {
   "cell_type": "code",
   "execution_count": 45,
   "metadata": {},
   "outputs": [],
   "source": [
    "def place_bet():\n",
    "    bankroll = Player.bankroll\n",
    "    global bet\n",
    "    bet = 0\n",
    "    \n",
    "    while not bet <= bankroll or not bet > 0:\n",
    "        chyba = 0\n",
    "\n",
    "        inputt = input('Place your bet please')\n",
    "        \n",
    "        if inputt  != \"\":\n",
    "            for c in inputt:\n",
    "                char = ord(c)\n",
    "                if not (char >= 48 and char <= 57):\n",
    "                    chyba = 1\n",
    "        else:\n",
    "            print (\"Dal jsi prazdnej retezec\")\n",
    "            chyba = 1\n",
    "            prazdnej_retezec = 1\n",
    "        \n",
    "        if chyba == 1:\n",
    "            bet = 0\n",
    "            if prazdnej_retezec != 1:\n",
    "                print ('Zadej číslo, debžote!')\n",
    "        else:\n",
    "            bet = int(inputt)       \n",
    "    "
   ]
  },
  {
   "cell_type": "code",
   "execution_count": 35,
   "metadata": {},
   "outputs": [],
   "source": [
    "def player_move():\n",
    "    move = ''\n",
    "    while move not in ('h','s'):\n",
    "        move = input('Choose your next move please. Hit (h) or Stand (s)')\n",
    "        \n",
    "        if move not in ('h','s'):\n",
    "            print ('Jdi někam',name ,  'a zmáčni h nebo s!')\n",
    "              \n",
    "    if move == ('h'):\n",
    "        return True\n",
    "    else:\n",
    "        return False"
   ]
  },
  {
   "cell_type": "code",
   "execution_count": 48,
   "metadata": {},
   "outputs": [],
   "source": [
    "def another_hand():\n",
    "    replay = ''\n",
    "    while replay not in ('y', 'n'):\n",
    "        replay = input('Do you want to play another hand? Yes(y) or No(n)')\n",
    "    \n",
    "        if replay not in ('y', 'n'):\n",
    "            print ('Jdi někam'),name ,  ('a zmáčni y nebo n!')\n",
    "    \n",
    "    if replay == ('y'):\n",
    "        return True\n",
    "    else:\n",
    "        return False"
   ]
  },
  {
   "cell_type": "code",
   "execution_count": 37,
   "metadata": {},
   "outputs": [],
   "source": [
    "def computer_hand_check():\n",
    "    while Computer_hand.score < 17:\n",
    "        return True\n",
    "    else:\n",
    "        return False\n",
    "        "
   ]
  },
  {
   "cell_type": "code",
   "execution_count": 38,
   "metadata": {},
   "outputs": [],
   "source": [
    "def win_check():\n",
    "    \n",
    "    if Computer_hand.score > 21:\n",
    "        print ('Dealer busts, you win')\n",
    "        Player.add_bankroll(bet)\n",
    "        pass\n",
    "    \n",
    "    elif Computer_hand.score > Player_hand.score and Computer_hand.score < 22:\n",
    "        print ('Dealer wins')\n",
    "        pass\n",
    "    \n",
    "    elif Player_hand.score > Computer_hand.score:\n",
    "        print ('You win')\n",
    "        Player.add_bankroll(bet)\n",
    "        pass\n",
    "    \n",
    "    else:\n",
    "        print ('Tie')\n",
    "        Player.add_bankroll(bet/2)\n",
    "        pass\n",
    "        "
   ]
  },
  {
   "cell_type": "code",
   "execution_count": 39,
   "metadata": {},
   "outputs": [],
   "source": [
    "def zero_bankroll_check():\n",
    "    if Player.bankroll == 0:\n",
    "        return True"
   ]
  },
  {
   "cell_type": "code",
   "execution_count": 40,
   "metadata": {},
   "outputs": [],
   "source": [
    "def insert_name():\n",
    "    \n",
    "    global name\n",
    "    \n",
    "    name = input('Type in your name please')"
   ]
  },
  {
   "cell_type": "code",
   "execution_count": 51,
   "metadata": {},
   "outputs": [],
   "source": [
    "def Black_Jack():\n",
    "    print ('Welcome to Black Jack')\n",
    "    print ('')\n",
    "    print ('Your current bankroll is', Player.bankroll)\n",
    "    \n",
    "    game_on = True\n",
    "    broke = False\n",
    "    bust = False\n",
    "    dealer_on = True\n",
    "\n",
    "    insert_name()\n",
    "    \n",
    "    while game_on:\n",
    "        \n",
    "        if zero_bankroll_check():\n",
    "            broke = True\n",
    "            game_on = False\n",
    "            print ('You are broke'), name, ('! Kick him out of the table!')\n",
    "            break\n",
    "\n",
    "        else:\n",
    "            \n",
    "            place_bet()\n",
    "            Player.substract_bankroll(bet)\n",
    "            print ('Your bankroll currently is', Player.bankroll)\n",
    "            Player_hand.restart()\n",
    "            Computer_hand.restart()\n",
    "            Computer_hand.add_score(card_pick())\n",
    "            Player_hand.add_score(card_pick())\n",
    "            Player_hand.add_score(card_pick())\n",
    "\n",
    "            print ('')\n",
    "            print ('Dealer currently has', Computer_hand.score)\n",
    "            print ('')\n",
    "            print ('You currently have', Player_hand.score)\n",
    "            print ('')\n",
    "\n",
    "            while Player_hand.score < 21 and player_move():\n",
    "                Player_hand.add_score(card_pick())\n",
    "                print  ('You currently have', Player_hand.score)\n",
    "\n",
    "                if Player_hand.score == 21:\n",
    "                    print ('You have 21!')\n",
    "\n",
    "\n",
    "                elif Player_hand.score > 21:\n",
    "                    print ('')\n",
    "                    print ('BBBBBust!')\n",
    "                    bust = True\n",
    "\n",
    "                    if another_hand():\n",
    "                        dealer_on = False\n",
    "                        \n",
    "                    else:\n",
    "                        dealer_on = False\n",
    "                        game_on = False\n",
    "                        print ('Thank you for playing! You are leaving table with', Player.bankroll, '. That is', Player.bankroll - 100, 'more than you had.')\n",
    "                        break\n",
    "\n",
    "            while computer_hand_check() and dealer_on:\n",
    "                Computer_hand.add_score(card_pick())\n",
    "                print ('Dealer currently has', Computer_hand.score)\n",
    "\n",
    "            if Player_hand.score < 22:\n",
    "                win_check()\n",
    "\n",
    "            if not bust:\n",
    "\n",
    "                if another_hand():\n",
    "                    pass\n",
    "                else:\n",
    "                    game_on = False\n",
    "                    print ('Thank you for playing! You are leaving table with', Player.bankroll, '. That is', Player.bankroll - 100, 'more than you had.')\n",
    "                    break"
   ]
  },
  {
   "cell_type": "code",
   "execution_count": null,
   "metadata": {},
   "outputs": [
    {
     "name": "stdout",
     "output_type": "stream",
     "text": [
      "Welcome to Black Jack\n",
      "\n",
      "Your current bankroll is 40.0\n"
     ]
    }
   ],
   "source": [
    "Black_Jack()"
   ]
  },
  {
   "cell_type": "code",
   "execution_count": null,
   "metadata": {},
   "outputs": [],
   "source": []
  },
  {
   "cell_type": "code",
   "execution_count": null,
   "metadata": {},
   "outputs": [],
   "source": []
  },
  {
   "cell_type": "code",
   "execution_count": null,
   "metadata": {
    "collapsed": true
   },
   "outputs": [],
   "source": []
  },
  {
   "cell_type": "code",
   "execution_count": null,
   "metadata": {
    "collapsed": true
   },
   "outputs": [],
   "source": []
  },
  {
   "cell_type": "code",
   "execution_count": null,
   "metadata": {
    "collapsed": true
   },
   "outputs": [],
   "source": []
  },
  {
   "cell_type": "code",
   "execution_count": null,
   "metadata": {
    "collapsed": true
   },
   "outputs": [],
   "source": []
  },
  {
   "cell_type": "code",
   "execution_count": null,
   "metadata": {
    "collapsed": true
   },
   "outputs": [],
   "source": []
  },
  {
   "cell_type": "code",
   "execution_count": null,
   "metadata": {
    "collapsed": true
   },
   "outputs": [],
   "source": []
  },
  {
   "cell_type": "code",
   "execution_count": null,
   "metadata": {
    "collapsed": true
   },
   "outputs": [],
   "source": []
  },
  {
   "cell_type": "code",
   "execution_count": null,
   "metadata": {
    "collapsed": true
   },
   "outputs": [],
   "source": []
  },
  {
   "cell_type": "code",
   "execution_count": null,
   "metadata": {
    "collapsed": true
   },
   "outputs": [],
   "source": []
  },
  {
   "cell_type": "code",
   "execution_count": null,
   "metadata": {
    "collapsed": true
   },
   "outputs": [],
   "source": []
  },
  {
   "cell_type": "code",
   "execution_count": null,
   "metadata": {
    "collapsed": true
   },
   "outputs": [],
   "source": []
  },
  {
   "cell_type": "code",
   "execution_count": null,
   "metadata": {
    "collapsed": true
   },
   "outputs": [],
   "source": []
  },
  {
   "cell_type": "code",
   "execution_count": null,
   "metadata": {
    "collapsed": true
   },
   "outputs": [],
   "source": []
  },
  {
   "cell_type": "code",
   "execution_count": null,
   "metadata": {
    "collapsed": true
   },
   "outputs": [],
   "source": []
  },
  {
   "cell_type": "code",
   "execution_count": null,
   "metadata": {
    "collapsed": true
   },
   "outputs": [],
   "source": []
  },
  {
   "cell_type": "code",
   "execution_count": null,
   "metadata": {
    "collapsed": true
   },
   "outputs": [],
   "source": []
  },
  {
   "cell_type": "code",
   "execution_count": null,
   "metadata": {
    "collapsed": true
   },
   "outputs": [],
   "source": []
  },
  {
   "cell_type": "code",
   "execution_count": null,
   "metadata": {
    "collapsed": true
   },
   "outputs": [],
   "source": []
  },
  {
   "cell_type": "code",
   "execution_count": null,
   "metadata": {
    "collapsed": true
   },
   "outputs": [],
   "source": []
  },
  {
   "cell_type": "code",
   "execution_count": null,
   "metadata": {
    "collapsed": true
   },
   "outputs": [],
   "source": []
  },
  {
   "cell_type": "code",
   "execution_count": null,
   "metadata": {
    "collapsed": true
   },
   "outputs": [],
   "source": []
  },
  {
   "cell_type": "code",
   "execution_count": null,
   "metadata": {
    "collapsed": true
   },
   "outputs": [],
   "source": []
  },
  {
   "cell_type": "code",
   "execution_count": null,
   "metadata": {
    "collapsed": true
   },
   "outputs": [],
   "source": []
  },
  {
   "cell_type": "code",
   "execution_count": null,
   "metadata": {
    "collapsed": true
   },
   "outputs": [],
   "source": []
  },
  {
   "cell_type": "code",
   "execution_count": null,
   "metadata": {
    "collapsed": true
   },
   "outputs": [],
   "source": []
  },
  {
   "cell_type": "code",
   "execution_count": null,
   "metadata": {
    "collapsed": true
   },
   "outputs": [],
   "source": []
  },
  {
   "cell_type": "code",
   "execution_count": null,
   "metadata": {
    "collapsed": true
   },
   "outputs": [],
   "source": []
  },
  {
   "cell_type": "code",
   "execution_count": null,
   "metadata": {
    "collapsed": true
   },
   "outputs": [],
   "source": []
  },
  {
   "cell_type": "code",
   "execution_count": null,
   "metadata": {
    "collapsed": true
   },
   "outputs": [],
   "source": []
  },
  {
   "cell_type": "code",
   "execution_count": null,
   "metadata": {
    "collapsed": true
   },
   "outputs": [],
   "source": []
  },
  {
   "cell_type": "code",
   "execution_count": null,
   "metadata": {
    "collapsed": true
   },
   "outputs": [],
   "source": []
  }
 ],
 "metadata": {
  "kernelspec": {
   "display_name": "Python 3",
   "language": "python",
   "name": "python3"
  },
  "language_info": {
   "codemirror_mode": {
    "name": "ipython",
    "version": 3
   },
   "file_extension": ".py",
   "mimetype": "text/x-python",
   "name": "python",
   "nbconvert_exporter": "python",
   "pygments_lexer": "ipython3",
   "version": "3.8.5"
  },
  "varInspector": {
   "cols": {
    "lenName": 16,
    "lenType": 16,
    "lenVar": 40
   },
   "kernels_config": {
    "python": {
     "delete_cmd_postfix": "",
     "delete_cmd_prefix": "del ",
     "library": "var_list.py",
     "varRefreshCmd": "print(var_dic_list())"
    },
    "r": {
     "delete_cmd_postfix": ") ",
     "delete_cmd_prefix": "rm(",
     "library": "var_list.r",
     "varRefreshCmd": "cat(var_dic_list()) "
    }
   },
   "types_to_exclude": [
    "module",
    "function",
    "builtin_function_or_method",
    "instance",
    "_Feature"
   ],
   "window_display": false
  }
 },
 "nbformat": 4,
 "nbformat_minor": 2
}
