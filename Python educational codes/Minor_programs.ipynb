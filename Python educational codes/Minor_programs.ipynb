{
 "cells": [
  {
   "cell_type": "code",
   "execution_count": 111,
   "metadata": {},
   "outputs": [],
   "source": [
    "x=[1,2,3,4,5,6,7,8,9,10]\n",
    "y=[5,4,6,5,4,5,6,5,4,5]"
   ]
  },
  {
   "cell_type": "code",
   "execution_count": 112,
   "metadata": {},
   "outputs": [],
   "source": [
    "def std_dev(l):\n",
    "    \n",
    "    sumation = 0\n",
    "    mean_x = s.mean(l)\n",
    "    len_l = len(l)\n",
    "    \n",
    "    for x in l:\n",
    "        sumation += (x - mean_x)**2\n",
    "        \n",
    "    var = sumation    \n",
    "    std_dev = (sumation/(len_l-1))**0.5\n",
    "    return std_dev"
   ]
  },
  {
   "cell_type": "code",
   "execution_count": 113,
   "metadata": {},
   "outputs": [
    {
     "data": {
      "text/plain": [
       "3.0276503540974917"
      ]
     },
     "execution_count": 113,
     "metadata": {},
     "output_type": "execute_result"
    }
   ],
   "source": [
    "std_dev(x)"
   ]
  },
  {
   "cell_type": "code",
   "execution_count": 114,
   "metadata": {},
   "outputs": [],
   "source": [
    "import statistics as s\n",
    "\n",
    "def covariance(x,y):\n",
    "    \n",
    "    mean_x = s.mean(x)\n",
    "    mean_y = s.mean(y)\n",
    "    lenght = len(x)-1\n",
    "    sumation = 0\n",
    "    std_dev_x = std_dev(x)\n",
    "    std_dev_y = std_dev(y)\n",
    "    \n",
    "    merged_list = [(x[i], y[i]) for i in range(0, len(x))] \n",
    "\n",
    "    for x, y in merged_list:\n",
    "        sumation += (x - mean_x) * (y - mean_y)\n",
    "    \n",
    "    cov = sumation / lenght\n",
    "    cor = cov/(std_dev_x*std_dev_y)\n",
    "    return cov"
   ]
  },
  {
   "cell_type": "code",
   "execution_count": 115,
   "metadata": {},
   "outputs": [
    {
     "data": {
      "text/plain": [
       "-0.05555555555555555"
      ]
     },
     "execution_count": 115,
     "metadata": {},
     "output_type": "execute_result"
    }
   ],
   "source": [
    "covariance(x,y)"
   ]
  },
  {
   "cell_type": "code",
   "execution_count": 117,
   "metadata": {},
   "outputs": [
    {
     "name": "stdout",
     "output_type": "stream",
     "text": [
      "[[ 9.16666667 -0.05555556]\n",
      " [-0.05555556  0.54444444]]\n"
     ]
    }
   ],
   "source": [
    "from numpy import cov\n",
    "\n",
    "print(cov(x,y))"
   ]
  },
  {
   "cell_type": "code",
   "execution_count": 9,
   "metadata": {},
   "outputs": [],
   "source": [
    "def prime_factorization(number):\n",
    "    \n",
    "    factors = []\n",
    "    l = prime_sequence(number)\n",
    "        \n",
    "    for num in l:\n",
    "        if number % num == 0:\n",
    "            factors.append(num)\n",
    "            \n",
    "    return factors"
   ]
  },
  {
   "cell_type": "code",
   "execution_count": 11,
   "metadata": {},
   "outputs": [],
   "source": [
    "def identify_prime(num):\n",
    "    \n",
    "    count = 0\n",
    "    \n",
    "    for x in range(2,num):\n",
    "        if num % x == 0:\n",
    "            count += 1\n",
    "    \n",
    "    if count == 0:\n",
    "        return True\n",
    "    else:\n",
    "        return False           "
   ]
  },
  {
   "cell_type": "code",
   "execution_count": 12,
   "metadata": {},
   "outputs": [],
   "source": [
    "def prime_sequence(limit):\n",
    "    \n",
    "    prime_list = []\n",
    "    \n",
    "    for num in range(2,limit+1):\n",
    "        if identify_prime(num):\n",
    "            prime_list.append(num)\n",
    "        \n",
    "    return prime_list\n",
    "            "
   ]
  },
  {
   "cell_type": "code",
   "execution_count": 15,
   "metadata": {},
   "outputs": [
    {
     "data": {
      "text/plain": [
       "[3, 37]"
      ]
     },
     "execution_count": 15,
     "metadata": {},
     "output_type": "execute_result"
    }
   ],
   "source": [
    "prime_factorization(111)"
   ]
  },
  {
   "cell_type": "code",
   "execution_count": null,
   "metadata": {
    "collapsed": true
   },
   "outputs": [],
   "source": [
    "def collatz_conjecture(n):\n",
    "    \n",
    "    steps = 0\n",
    "    \n",
    "    while n > 1:\n",
    "        if n % 2 == 0:\n",
    "            n = n/2\n",
    "            steps += 1\n",
    "        else:\n",
    "            n = n*3+1\n",
    "            steps += 1\n",
    "            \n",
    "    return steps"
   ]
  },
  {
   "cell_type": "code",
   "execution_count": null,
   "metadata": {
    "collapsed": true
   },
   "outputs": [],
   "source": [
    "collatz_conjecture(13)"
   ]
  },
  {
   "cell_type": "code",
   "execution_count": null,
   "metadata": {
    "collapsed": true
   },
   "outputs": [],
   "source": [
    "def closest_pair((x1a,x2a),(y1a,y2a),(x1b,x2b),(y1b,y2b)):\n",
    "    \n",
    "    a = distance((x1a,x2a),(y1a,y2a))\n",
    "    b = distance((x1b,x2b),(y1b,y2b))\n",
    "    \n",
    "    return min(a,b)"
   ]
  },
  {
   "cell_type": "code",
   "execution_count": null,
   "metadata": {
    "collapsed": true
   },
   "outputs": [],
   "source": [
    "closest_pair((1,2),(4,60),(10000,20),(-50,-100))"
   ]
  },
  {
   "cell_type": "code",
   "execution_count": null,
   "metadata": {
    "collapsed": true
   },
   "outputs": [],
   "source": [
    "def distance((x1,x2),(y1,y2)):\n",
    "     \n",
    "    return ((y2 - x2) ** 2 + (y1 - x1) ** 2) ** 0.5  "
   ]
  },
  {
   "cell_type": "code",
   "execution_count": 1,
   "metadata": {
    "collapsed": true
   },
   "outputs": [],
   "source": [
    "def Fibbonaci_sequence(final_number):\n",
    "    \n",
    "    position_1 = 0\n",
    "    position_2 = 1\n",
    "    sequence = [1,1]\n",
    "    \n",
    "    while position_2 < final_number-1:\n",
    "        sequence.append(sequence[position_1]+sequence[position_2])\n",
    "        position_1 +=1\n",
    "        position_2 +=1\n",
    "        \n",
    "    return sequence"
   ]
  },
  {
   "cell_type": "code",
   "execution_count": 2,
   "metadata": {},
   "outputs": [
    {
     "data": {
      "text/plain": [
       "[1, 1, 2, 3, 5, 8, 13, 21, 34, 55, 89, 144, 233, 377, 610, 987]"
      ]
     },
     "execution_count": 2,
     "metadata": {},
     "output_type": "execute_result"
    }
   ],
   "source": [
    "Fibbonaci_sequence(16)"
   ]
  },
  {
   "cell_type": "code",
   "execution_count": null,
   "metadata": {
    "collapsed": true
   },
   "outputs": [],
   "source": [
    "import random\n",
    "\n",
    "def dice():\n",
    "    \n",
    "    return random.randint(1,6)\n",
    "    "
   ]
  },
  {
   "cell_type": "code",
   "execution_count": null,
   "metadata": {
    "collapsed": true
   },
   "outputs": [],
   "source": [
    "def sum_prob_dice_sim(sum,n):\n",
    "    \n",
    "    count = 0\n",
    "    x = 0\n",
    "    \n",
    "    while x < n:\n",
    "        if dice() + dice() == sum:\n",
    "            count += 1\n",
    "            x +=1\n",
    "        else:\n",
    "            x +=1 \n",
    "    return count "
   ]
  },
  {
   "cell_type": "code",
   "execution_count": null,
   "metadata": {
    "collapsed": true
   },
   "outputs": [],
   "source": [
    "sum_prob_dice_sim(2,10000)"
   ]
  },
  {
   "cell_type": "code",
   "execution_count": null,
   "metadata": {
    "collapsed": true
   },
   "outputs": [],
   "source": [
    "def num_prob_dice_sim(num,n):\n",
    "    \n",
    "    count = 0\n",
    "    x = 0\n",
    "    \n",
    "    while x < n:\n",
    "        \n",
    "        if dice() == num or dice() == num:\n",
    "            x +=1\n",
    "        \n",
    "        else:\n",
    "            x +=1\n",
    "            \n",
    "    return count"
   ]
  },
  {
   "cell_type": "code",
   "execution_count": 55,
   "metadata": {},
   "outputs": [],
   "source": [
    "def coin_flip_sim_3(n):\n",
    "\n",
    "    count_h = 0\n",
    "    count_t = 0\n",
    "    x = 0\n",
    "    \n",
    "    while x < n:\n",
    "\n",
    "        if unfair_coin() == 'Heads':\n",
    "            if unfair_coin() == 'Tails':\n",
    "                count_h +=1\n",
    "                x +=1\n",
    "                   \n",
    "        if unfair_coin() == 'Tails':\n",
    "            if unfair_coin() == 'Heads':\n",
    "                count_t +=1\n",
    "                x+=1\n",
    "                \n",
    "    print (count_t, count_h)\n",
    "    \n",
    "    "
   ]
  },
  {
   "cell_type": "code",
   "execution_count": 56,
   "metadata": {},
   "outputs": [],
   "source": [
    "import random\n",
    "\n",
    "def unfair_coin():\n",
    "    \n",
    "    if random.randint(0,9) == 0:\n",
    "        return 'Heads'\n",
    "    else: \n",
    "        return 'Tails'  \n"
   ]
  },
  {
   "cell_type": "code",
   "execution_count": 57,
   "metadata": {},
   "outputs": [
    {
     "data": {
      "text/plain": [
       "'Tails'"
      ]
     },
     "execution_count": 57,
     "metadata": {},
     "output_type": "execute_result"
    }
   ],
   "source": [
    "unfair_coin()"
   ]
  },
  {
   "cell_type": "code",
   "execution_count": 58,
   "metadata": {},
   "outputs": [
    {
     "name": "stdout",
     "output_type": "stream",
     "text": [
      "93 107\n"
     ]
    }
   ],
   "source": [
    "coin_flip_sim_3(200)"
   ]
  },
  {
   "cell_type": "code",
   "execution_count": 16,
   "metadata": {},
   "outputs": [],
   "source": [
    "def compression_1(lst):\n",
    "    \n",
    "    outcome = []    \n",
    "    count = -1\n",
    "    x = lst[0]\n",
    "    \n",
    "    for i in lst:\n",
    "        \n",
    "        count += 1\n",
    "        \n",
    "        if x != i:\n",
    "            outcome.append(x)\n",
    "            outcome.append(count)  \n",
    "            x = i\n",
    "            count = 0\n",
    "            \n",
    "    outcome.append(x)\n",
    "    outcome.append(count+1)            \n",
    "  \n",
    "\n",
    "    return outcome\n",
    "    "
   ]
  },
  {
   "cell_type": "code",
   "execution_count": 17,
   "metadata": {},
   "outputs": [
    {
     "data": {
      "text/plain": [
       "['A', 1, 'a', 3, 'A', 5, 'b', 3, 'c', 1]"
      ]
     },
     "execution_count": 17,
     "metadata": {},
     "output_type": "execute_result"
    }
   ],
   "source": [
    "compression_1(['A','a','a','a','A','A','A','A','A','b','b','b','c'])"
   ]
  },
  {
   "cell_type": "code",
   "execution_count": 92,
   "metadata": {},
   "outputs": [],
   "source": [
    "def compression_2(string):\n",
    "    \n",
    "    outcome = ''\n",
    "    count = 1\n",
    "    q = 1\n",
    "    \n",
    "    while q < len(string):\n",
    "        \n",
    "        if string[q-1] == string[q]:\n",
    "            count += 1\n",
    "\n",
    "        elif string[q-1] != string[q]:\n",
    "            outcome = outcome + string[q-1] + str(count)\n",
    "            count = 1 \n",
    "        q +=1\n",
    "        \n",
    "    outcome = outcome + string[q-1] + str(count)\n",
    "            \n",
    "    return outcome"
   ]
  },
  {
   "cell_type": "code",
   "execution_count": 93,
   "metadata": {},
   "outputs": [
    {
     "data": {
      "text/plain": [
       "'a3A3a3A4b3'"
      ]
     },
     "execution_count": 93,
     "metadata": {},
     "output_type": "execute_result"
    }
   ],
   "source": [
    "compression_2('aaaAAAaaaAAAAbbb')"
   ]
  },
  {
   "cell_type": "code",
   "execution_count": 94,
   "metadata": {},
   "outputs": [],
   "source": [
    "def max_consecutive_sum(array):\n",
    "    \n",
    "    max_sum = 0\n",
    "    max_sum_1 = 0\n",
    "    \n",
    "    for num in array:\n",
    "        \n",
    "        max_sum = max (max_sum + num, 0)\n",
    "        max_sum_1 = max(max_sum, max_sum_1)        \n",
    "       \n",
    "    return max_sum_1"
   ]
  },
  {
   "cell_type": "code",
   "execution_count": 95,
   "metadata": {},
   "outputs": [
    {
     "data": {
      "text/plain": [
       "25"
      ]
     },
     "execution_count": 95,
     "metadata": {},
     "output_type": "execute_result"
    }
   ],
   "source": [
    "max_consecutive_sum([2,1,-1,-5,10,10,10-5])"
   ]
  },
  {
   "cell_type": "code",
   "execution_count": 62,
   "metadata": {},
   "outputs": [],
   "source": [
    "def max_profit_1(array):\n",
    "    \n",
    "    if len(array) < 2:\n",
    "        return 'Not enought prices'\n",
    "    \n",
    "    highest = max(array)\n",
    "    \n",
    "    i_h = [i for i,x in enumerate(array) if x == highest]\n",
    "    array_m = array[:i_h[0]]\n",
    "    profit_h = highest - min(array_m)\n",
    "\n",
    "    \n",
    "    lowest = min(array)\n",
    "    \n",
    "    i_l = [i for i,x in enumerate(array) if x == lowest]\n",
    "    array_l = array[i_l[0]:]\n",
    "    profit_l = max(array_l) - lowest\n",
    "    \n",
    "    return max(profit_h,profit_l)"
   ]
  },
  {
   "cell_type": "code",
   "execution_count": 63,
   "metadata": {},
   "outputs": [
    {
     "data": {
      "text/plain": [
       "19"
      ]
     },
     "execution_count": 63,
     "metadata": {},
     "output_type": "execute_result"
    }
   ],
   "source": [
    "max_profit_1([9,5,11,2,1,14,5,8,3,9,20])"
   ]
  },
  {
   "cell_type": "code",
   "execution_count": 26,
   "metadata": {},
   "outputs": [],
   "source": [
    "def max_profit_2(array):\n",
    "        \n",
    "    if len(array) < 2:\n",
    "        return 'Not enought prices'\n",
    "        \n",
    "    min_price = array[0]\n",
    "    max_profit = 0\n",
    "    \n",
    "    for num in array:\n",
    "        \n",
    "        min_price = min(min_price,num)\n",
    "        max_profit = max(num-min_price,max_profit)\n",
    "\n",
    "    return max_profit\n",
    "        "
   ]
  },
  {
   "cell_type": "code",
   "execution_count": 27,
   "metadata": {},
   "outputs": [
    {
     "data": {
      "text/plain": [
       "19"
      ]
     },
     "execution_count": 27,
     "metadata": {},
     "output_type": "execute_result"
    }
   ],
   "source": [
    "max_profit_2([9,5,11,2,1,14,5,8,3,9,20])"
   ]
  },
  {
   "cell_type": "code",
   "execution_count": 76,
   "metadata": {},
   "outputs": [],
   "source": [
    "def find_missing_2(array1,array2):\n",
    "    \n",
    "    if len(array1) == len(array2):\n",
    "        return 'No missing or wrong inputs'\n",
    "    \n",
    "    return sum(array1) - sum(array2)"
   ]
  },
  {
   "cell_type": "code",
   "execution_count": 77,
   "metadata": {},
   "outputs": [
    {
     "data": {
      "text/plain": [
       "6"
      ]
     },
     "execution_count": 77,
     "metadata": {},
     "output_type": "execute_result"
    }
   ],
   "source": [
    "find_missing_2([5,4,3,6,6,7],[4,3,6,5,7])"
   ]
  },
  {
   "cell_type": "code",
   "execution_count": 78,
   "metadata": {},
   "outputs": [],
   "source": [
    "def find_missing_3(array1,array2):\n",
    "    \n",
    "    if len(array1) == len(array2):\n",
    "        return 'No missing or wrong inputs'\n",
    "    \n",
    "    for num1,num2 in zip(sorted(array1),sorted(array2)):\n",
    "        if num1 != num2:\n",
    "            return num1\n",
    "        else:\n",
    "            return sorted(array1)[-1]  "
   ]
  },
  {
   "cell_type": "code",
   "execution_count": 79,
   "metadata": {},
   "outputs": [
    {
     "data": {
      "text/plain": [
       "9"
      ]
     },
     "execution_count": 79,
     "metadata": {},
     "output_type": "execute_result"
    }
   ],
   "source": [
    "find_missing_3([5,4,3,6,6,9,7],[4,3,6,5,7,6])"
   ]
  },
  {
   "cell_type": "code",
   "execution_count": 43,
   "metadata": {},
   "outputs": [],
   "source": [
    "def FizzBuzz(max):\n",
    "    \n",
    "    for num in range(1,max):\n",
    "        if num % 15 == 0:\n",
    "            print ('FizzBuzz')\n",
    "        elif num % 3 ==0:\n",
    "            print ('Fizz')\n",
    "        elif num % 5 ==0:\n",
    "            print ('Buzz')\n",
    "        else:\n",
    "            print (num)\n",
    "    "
   ]
  },
  {
   "cell_type": "code",
   "execution_count": 44,
   "metadata": {},
   "outputs": [
    {
     "name": "stdout",
     "output_type": "stream",
     "text": [
      "1\n",
      "2\n",
      "Fizz\n",
      "4\n",
      "Buzz\n",
      "Fizz\n",
      "7\n",
      "8\n",
      "Fizz\n",
      "Buzz\n",
      "11\n",
      "Fizz\n",
      "13\n",
      "14\n",
      "FizzBuzz\n",
      "16\n",
      "17\n",
      "Fizz\n",
      "19\n"
     ]
    }
   ],
   "source": [
    "FizzBuzz(20)"
   ]
  },
  {
   "cell_type": "code",
   "execution_count": null,
   "metadata": {
    "collapsed": true
   },
   "outputs": [],
   "source": [
    "lst = [1,2,3,4,6,7,3,2,4]"
   ]
  },
  {
   "cell_type": "code",
   "execution_count": 131,
   "metadata": {},
   "outputs": [],
   "source": [
    "def binary_decimal_calc(input):\n",
    "    \n",
    "    output = 0\n",
    "    \n",
    "    for num in str(input):\n",
    "        output += (int(num) * 2 ** (len(str(input))))\n",
    "                           \n",
    "    return output\n",
    "               "
   ]
  },
  {
   "cell_type": "code",
   "execution_count": 134,
   "metadata": {},
   "outputs": [
    {
     "data": {
      "text/plain": [
       "1024"
      ]
     },
     "execution_count": 134,
     "metadata": {},
     "output_type": "execute_result"
    }
   ],
   "source": [
    "binary_decimal_calc(1000000000)"
   ]
  },
  {
   "cell_type": "code",
   "execution_count": null,
   "metadata": {
    "collapsed": true
   },
   "outputs": [],
   "source": []
  },
  {
   "cell_type": "code",
   "execution_count": null,
   "metadata": {
    "collapsed": true
   },
   "outputs": [],
   "source": []
  },
  {
   "cell_type": "code",
   "execution_count": null,
   "metadata": {
    "collapsed": true
   },
   "outputs": [],
   "source": []
  },
  {
   "cell_type": "code",
   "execution_count": null,
   "metadata": {
    "collapsed": true
   },
   "outputs": [],
   "source": []
  },
  {
   "cell_type": "code",
   "execution_count": null,
   "metadata": {
    "collapsed": true
   },
   "outputs": [],
   "source": []
  }
 ],
 "metadata": {
  "kernelspec": {
   "display_name": "Python 3",
   "language": "python",
   "name": "python3"
  },
  "language_info": {
   "codemirror_mode": {
    "name": "ipython",
    "version": 3
   },
   "file_extension": ".py",
   "mimetype": "text/x-python",
   "name": "python",
   "nbconvert_exporter": "python",
   "pygments_lexer": "ipython3",
   "version": "3.8.5"
  },
  "varInspector": {
   "cols": {
    "lenName": 16,
    "lenType": 16,
    "lenVar": 40
   },
   "kernels_config": {
    "python": {
     "delete_cmd_postfix": "",
     "delete_cmd_prefix": "del ",
     "library": "var_list.py",
     "varRefreshCmd": "print(var_dic_list())"
    },
    "r": {
     "delete_cmd_postfix": ") ",
     "delete_cmd_prefix": "rm(",
     "library": "var_list.r",
     "varRefreshCmd": "cat(var_dic_list()) "
    }
   },
   "types_to_exclude": [
    "module",
    "function",
    "builtin_function_or_method",
    "instance",
    "_Feature"
   ],
   "window_display": false
  }
 },
 "nbformat": 4,
 "nbformat_minor": 2
}
